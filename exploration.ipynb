{
 "cells": [
  {
   "cell_type": "markdown",
   "metadata": {},
   "source": [
    "# 1  Introduction"
   ]
  },
  {
   "cell_type": "markdown",
   "metadata": {},
   "source": [
    "Team: \n",
    "<par> David Grogan (SCPD Student) \n",
    "<par> Peter Gjeltema (SCPD Student)"
   ]
  },
  {
   "cell_type": "markdown",
   "metadata": {},
   "source": [
    "# 2 Choosing a dataset "
   ]
  },
  {
   "cell_type": "markdown",
   "metadata": {},
   "source": [
    "<par> Project Topic: MLB Baseball - Pitching Data\n",
    "<par> Dataset: Lahman's Baseball Database (https://cran.r-project.org/web/packages/Lahman/Lahman.pdf)"
   ]
  },
  {
   "cell_type": "markdown",
   "metadata": {},
   "source": [
    "# 3 Register a Team"
   ]
  },
  {
   "cell_type": "markdown",
   "metadata": {},
   "source": [
    "[X] COMPLETE"
   ]
  },
  {
   "cell_type": "markdown",
   "metadata": {},
   "source": [
    "# 4 Setting Aside a Holdout"
   ]
  },
  {
   "cell_type": "code",
   "execution_count": 53,
   "metadata": {},
   "outputs": [],
   "source": [
    "# load packages\n",
    "library(Lahman)\n",
    "library(tidyverse)\n",
    "library(GGally)"
   ]
  },
  {
   "cell_type": "code",
   "execution_count": 2,
   "metadata": {},
   "outputs": [],
   "source": [
    "?Lahman"
   ]
  },
  {
   "cell_type": "code",
   "execution_count": 11,
   "metadata": {},
   "outputs": [],
   "source": [
    "# # create data set combining playoff and reg season pitching stats\n",
    "# cat(\"Pitching table dim: \", dim(PitchingPost), \"\\n\")\n",
    "# aug_pitch = inner_join(PitchingPost, Pitching, by=c(\"playerID\", \"yearID\")) %>% na.omit()\n",
    "# cat(\"Pitcher w/ Postseason clean dim: \", dim(aug_pitch), \"\\n\")\n",
    "\n",
    "# ##PROBLEM - DOES CLEANED DATASET GIVE ENOUGH VALUES?\n",
    "\n",
    "# Pitcher_clean = Pitching %>% na.omit()\n",
    "# #Pitcher_clean = Pitching[complete.cases(Pitching), ]\n",
    "# cat(\"Pitcher_clean dim: \", dim(Pitcher_clean))\n",
    "\n",
    "# ## THIS SEEMS MORE REASONABLE - LARGER N, SMALLER P"
   ]
  },
  {
   "cell_type": "code",
   "execution_count": 45,
   "metadata": {},
   "outputs": [
    {
     "data": {
      "text/html": [
       "<ol class=list-inline>\n",
       "\t<li>102816</li>\n",
       "\t<li>22</li>\n",
       "</ol>\n"
      ],
      "text/latex": [
       "\\begin{enumerate*}\n",
       "\\item 102816\n",
       "\\item 22\n",
       "\\end{enumerate*}\n"
      ],
      "text/markdown": [
       "1. 102816\n",
       "2. 22\n",
       "\n",
       "\n"
      ],
      "text/plain": [
       "[1] 102816     22"
      ]
     },
     "metadata": {},
     "output_type": "display_data"
    },
    {
     "data": {
      "text/html": [
       "<ol class=list-inline>\n",
       "\t<li>12594</li>\n",
       "\t<li>42</li>\n",
       "</ol>\n"
      ],
      "text/latex": [
       "\\begin{enumerate*}\n",
       "\\item 12594\n",
       "\\item 42\n",
       "\\end{enumerate*}\n"
      ],
      "text/markdown": [
       "1. 12594\n",
       "2. 42\n",
       "\n",
       "\n"
      ],
      "text/plain": [
       "[1] 12594    42"
      ]
     },
     "metadata": {},
     "output_type": "display_data"
    },
    {
     "data": {
      "text/html": [
       "<table>\n",
       "<thead><tr><th></th><th scope=col>playerID</th><th scope=col>yearID</th><th scope=col>stint</th><th scope=col>teamID.x</th><th scope=col>lgID.x</th><th scope=col>G.x</th><th scope=col>AB.x</th><th scope=col>R.x</th><th scope=col>H.x</th><th scope=col>X2B.x</th><th scope=col>...</th><th scope=col>CS.y</th><th scope=col>BB.y</th><th scope=col>SO.y</th><th scope=col>IBB.y</th><th scope=col>HBP.y</th><th scope=col>SH.y</th><th scope=col>SF.y</th><th scope=col>GIDP.y</th><th scope=col>P_SLG</th><th scope=col>P_OPS</th></tr></thead>\n",
       "<tbody>\n",
       "\t<tr><th scope=row>1837</th><td>behrmha01</td><td>1947     </td><td>1        </td><td>BRO      </td><td>NL       </td><td>  2      </td><td>  0      </td><td> 0       </td><td>  0      </td><td> 0       </td><td>...      </td><td>0        </td><td>0        </td><td>0        </td><td>0        </td><td>0        </td><td>0        </td><td>0        </td><td>0        </td><td>      NaN</td><td>      NaN</td></tr>\n",
       "\t<tr><th scope=row>2004</th><td>johnske01</td><td>1950     </td><td>1        </td><td>SLN      </td><td>NL       </td><td>  2      </td><td>  0      </td><td> 0       </td><td>  0      </td><td> 0       </td><td>...      </td><td>0        </td><td>0        </td><td>0        </td><td>0        </td><td>0        </td><td>0        </td><td>0        </td><td>0        </td><td>      NaN</td><td>      NaN</td></tr>\n",
       "\t<tr><th scope=row>2037</th><td>hoguebo01</td><td>1951     </td><td>3        </td><td>NYA      </td><td>AL       </td><td>  7      </td><td>  0      </td><td> 0       </td><td>  0      </td><td> 0       </td><td>...      </td><td>0        </td><td>0        </td><td>0        </td><td>0        </td><td>0        </td><td>0        </td><td>0        </td><td>0        </td><td>      NaN</td><td>      NaN</td></tr>\n",
       "\t<tr><th scope=row>2043</th><td>konikal01</td><td>1951     </td><td>1        </td><td>NY1      </td><td>NL       </td><td>  3      </td><td>  0      </td><td> 0       </td><td>  0      </td><td> 0       </td><td>...      </td><td>0        </td><td>0        </td><td>0        </td><td>0        </td><td>0        </td><td>0        </td><td>0        </td><td>0        </td><td>      NaN</td><td>      NaN</td></tr>\n",
       "\t<tr><th scope=row>2199</th><td>amorosa01</td><td>1955     </td><td>1        </td><td>BRO      </td><td>NL       </td><td>119      </td><td>388      </td><td>59       </td><td> 96      </td><td>16       </td><td>...      </td><td>0        </td><td>4        </td><td>4        </td><td>1        </td><td>1        </td><td>0        </td><td>0        </td><td>0        </td><td>0.5833333</td><td>0.5294118</td></tr>\n",
       "\t<tr><th scope=row>2200</th><td>bauerha01</td><td>1955     </td><td>1        </td><td>NYA      </td><td>AL       </td><td>139      </td><td>492      </td><td>97       </td><td>137      </td><td>20       </td><td>...      </td><td>1        </td><td>0        </td><td>1        </td><td>0        </td><td>0        </td><td>0        </td><td>0        </td><td>0        </td><td>0.4285714</td><td>0.4285714</td></tr>\n",
       "</tbody>\n",
       "</table>\n"
      ],
      "text/latex": [
       "\\begin{tabular}{r|llllllllllllllllllllllllllllllllllllllllllll}\n",
       "  & playerID & yearID & stint & teamID.x & lgID.x & G.x & AB.x & R.x & H.x & X2B.x & ... & CS.y & BB.y & SO.y & IBB.y & HBP.y & SH.y & SF.y & GIDP.y & P\\_SLG & P\\_OPS\\\\\n",
       "\\hline\n",
       "\t1837 & behrmha01 & 1947      & 1         & BRO       & NL        &   2       &   0       &  0        &   0       &  0        & ...       & 0         & 0         & 0         & 0         & 0         & 0         & 0         & 0         &       NaN &       NaN\\\\\n",
       "\t2004 & johnske01 & 1950      & 1         & SLN       & NL        &   2       &   0       &  0        &   0       &  0        & ...       & 0         & 0         & 0         & 0         & 0         & 0         & 0         & 0         &       NaN &       NaN\\\\\n",
       "\t2037 & hoguebo01 & 1951      & 3         & NYA       & AL        &   7       &   0       &  0        &   0       &  0        & ...       & 0         & 0         & 0         & 0         & 0         & 0         & 0         & 0         &       NaN &       NaN\\\\\n",
       "\t2043 & konikal01 & 1951      & 1         & NY1       & NL        &   3       &   0       &  0        &   0       &  0        & ...       & 0         & 0         & 0         & 0         & 0         & 0         & 0         & 0         &       NaN &       NaN\\\\\n",
       "\t2199 & amorosa01 & 1955      & 1         & BRO       & NL        & 119       & 388       & 59        &  96       & 16        & ...       & 0         & 4         & 4         & 1         & 1         & 0         & 0         & 0         & 0.5833333 & 0.5294118\\\\\n",
       "\t2200 & bauerha01 & 1955      & 1         & NYA       & AL        & 139       & 492       & 97        & 137       & 20        & ...       & 1         & 0         & 1         & 0         & 0         & 0         & 0         & 0         & 0.4285714 & 0.4285714\\\\\n",
       "\\end{tabular}\n"
      ],
      "text/markdown": [
       "\n",
       "| <!--/--> | playerID | yearID | stint | teamID.x | lgID.x | G.x | AB.x | R.x | H.x | X2B.x | ... | CS.y | BB.y | SO.y | IBB.y | HBP.y | SH.y | SF.y | GIDP.y | P_SLG | P_OPS | \n",
       "|---|---|---|---|---|---|\n",
       "| 1837 | behrmha01 | 1947      | 1         | BRO       | NL        |   2       |   0       |  0        |   0       |  0        | ...       | 0         | 0         | 0         | 0         | 0         | 0         | 0         | 0         |       NaN |       NaN | \n",
       "| 2004 | johnske01 | 1950      | 1         | SLN       | NL        |   2       |   0       |  0        |   0       |  0        | ...       | 0         | 0         | 0         | 0         | 0         | 0         | 0         | 0         |       NaN |       NaN | \n",
       "| 2037 | hoguebo01 | 1951      | 3         | NYA       | AL        |   7       |   0       |  0        |   0       |  0        | ...       | 0         | 0         | 0         | 0         | 0         | 0         | 0         | 0         |       NaN |       NaN | \n",
       "| 2043 | konikal01 | 1951      | 1         | NY1       | NL        |   3       |   0       |  0        |   0       |  0        | ...       | 0         | 0         | 0         | 0         | 0         | 0         | 0         | 0         |       NaN |       NaN | \n",
       "| 2199 | amorosa01 | 1955      | 1         | BRO       | NL        | 119       | 388       | 59        |  96       | 16        | ...       | 0         | 4         | 4         | 1         | 1         | 0         | 0         | 0         | 0.5833333 | 0.5294118 | \n",
       "| 2200 | bauerha01 | 1955      | 1         | NYA       | AL        | 139       | 492       | 97        | 137       | 20        | ...       | 1         | 0         | 1         | 0         | 0         | 0         | 0         | 0         | 0.4285714 | 0.4285714 | \n",
       "\n",
       "\n"
      ],
      "text/plain": [
       "     playerID  yearID stint teamID.x lgID.x G.x AB.x R.x H.x X2B.x ... CS.y\n",
       "1837 behrmha01 1947   1     BRO      NL       2   0   0    0  0    ... 0   \n",
       "2004 johnske01 1950   1     SLN      NL       2   0   0    0  0    ... 0   \n",
       "2037 hoguebo01 1951   3     NYA      AL       7   0   0    0  0    ... 0   \n",
       "2043 konikal01 1951   1     NY1      NL       3   0   0    0  0    ... 0   \n",
       "2199 amorosa01 1955   1     BRO      NL     119 388  59   96 16    ... 0   \n",
       "2200 bauerha01 1955   1     NYA      AL     139 492  97  137 20    ... 1   \n",
       "     BB.y SO.y IBB.y HBP.y SH.y SF.y GIDP.y P_SLG     P_OPS    \n",
       "1837 0    0    0     0     0    0    0            NaN       NaN\n",
       "2004 0    0    0     0     0    0    0            NaN       NaN\n",
       "2037 0    0    0     0     0    0    0            NaN       NaN\n",
       "2043 0    0    0     0     0    0    0            NaN       NaN\n",
       "2199 4    4    1     1     0    0    0      0.5833333 0.5294118\n",
       "2200 0    1    0     0     0    0    0      0.4285714 0.4285714"
      ]
     },
     "metadata": {},
     "output_type": "display_data"
    },
    {
     "data": {
      "text/html": [
       "<ol class=list-inline>\n",
       "\t<li>12594</li>\n",
       "\t<li>24</li>\n",
       "</ol>\n"
      ],
      "text/latex": [
       "\\begin{enumerate*}\n",
       "\\item 12594\n",
       "\\item 24\n",
       "\\end{enumerate*}\n"
      ],
      "text/markdown": [
       "1. 12594\n",
       "2. 24\n",
       "\n",
       "\n"
      ],
      "text/plain": [
       "[1] 12594    24"
      ]
     },
     "metadata": {},
     "output_type": "display_data"
    }
   ],
   "source": [
    "dim(Batting)\n",
    "aug_bat = inner_join(Batting, BattingPost, by=c(\"playerID\", \"yearID\")) %>% na.omit()\n",
    "dim(aug_bat)\n",
    "#head(aug_bat)\n",
    "#colnames(aug_bat)\n",
    "\n",
    "aug_bat$P_SLG = (1*(aug_bat$H.y - aug_bat$X2B.y - aug_bat$X3B.y - aug_bat$HR.y)  + 2*aug_bat$X2B.y + 3*aug_bat$X3B.y + 4*aug_bat$HR.y)/aug_bat$AB.y\n",
    "aug_bat$P_OPS = (aug_bat$H.y + aug_bat$BB.y + aug_bat$HBP.y)/ (aug_bat$AB.y + aug_bat$BB.y + aug_bat$HBP.y + aug_bat$SF.y)\n",
    "head(aug_bat)\n",
    "#fin_bat =  aug_bat[, c(1:22)], aug_bat[, c(42:44)]) #cbind(aug_bat[, c(1:22)], aug_bat[, c(42:44)])\n",
    "fin_bat = aug_bat[ , -c(23:42)]\n",
    "dim(fin_bat)\n",
    "Pitcher_clean = fin_bat"
   ]
  },
  {
   "cell_type": "code",
   "execution_count": 46,
   "metadata": {},
   "outputs": [],
   "source": [
    "# 80-20 split\n",
    "set.seed(1)\n",
    "set_size = dim(Pitcher_clean)[1]\n",
    "train = sample(seq(set_size), 0.8*set_size)\n",
    "clean_pitching_train = Pitcher_clean[train, ]\n",
    "clean_pitching_test = Pitcher_clean[-train, ]"
   ]
  },
  {
   "cell_type": "markdown",
   "metadata": {},
   "source": [
    "# 5 Investigating and Exploring the Data"
   ]
  },
  {
   "cell_type": "code",
   "execution_count": 47,
   "metadata": {},
   "outputs": [
    {
     "data": {
      "text/html": [
       "<table>\n",
       "<thead><tr><th></th><th scope=col>playerID</th><th scope=col>yearID</th><th scope=col>stint</th><th scope=col>teamID.x</th><th scope=col>lgID.x</th><th scope=col>G.x</th><th scope=col>AB.x</th><th scope=col>R.x</th><th scope=col>H.x</th><th scope=col>X2B.x</th><th scope=col>...</th><th scope=col>CS.x</th><th scope=col>BB.x</th><th scope=col>SO.x</th><th scope=col>IBB.x</th><th scope=col>HBP.x</th><th scope=col>SH.x</th><th scope=col>SF.x</th><th scope=col>GIDP.x</th><th scope=col>P_SLG</th><th scope=col>P_OPS</th></tr></thead>\n",
       "<tbody>\n",
       "\t<tr><th scope=row>1837</th><td>behrmha01</td><td>1947     </td><td>1        </td><td>BRO      </td><td>NL       </td><td>  2      </td><td>  0      </td><td> 0       </td><td>  0      </td><td> 0       </td><td>...      </td><td>0        </td><td> 0       </td><td> 0       </td><td>0        </td><td>0        </td><td>0        </td><td>0        </td><td>0        </td><td>      NaN</td><td>      NaN</td></tr>\n",
       "\t<tr><th scope=row>2004</th><td>johnske01</td><td>1950     </td><td>1        </td><td>SLN      </td><td>NL       </td><td>  2      </td><td>  0      </td><td> 0       </td><td>  0      </td><td> 0       </td><td>...      </td><td>0        </td><td> 0       </td><td> 0       </td><td>0        </td><td>0        </td><td>0        </td><td>0        </td><td>0        </td><td>      NaN</td><td>      NaN</td></tr>\n",
       "\t<tr><th scope=row>2037</th><td>hoguebo01</td><td>1951     </td><td>3        </td><td>NYA      </td><td>AL       </td><td>  7      </td><td>  0      </td><td> 0       </td><td>  0      </td><td> 0       </td><td>...      </td><td>0        </td><td> 0       </td><td> 0       </td><td>0        </td><td>0        </td><td>0        </td><td>0        </td><td>0        </td><td>      NaN</td><td>      NaN</td></tr>\n",
       "\t<tr><th scope=row>2043</th><td>konikal01</td><td>1951     </td><td>1        </td><td>NY1      </td><td>NL       </td><td>  3      </td><td>  0      </td><td> 0       </td><td>  0      </td><td> 0       </td><td>...      </td><td>0        </td><td> 0       </td><td> 0       </td><td>0        </td><td>0        </td><td>0        </td><td>0        </td><td>0        </td><td>      NaN</td><td>      NaN</td></tr>\n",
       "\t<tr><th scope=row>2199</th><td>amorosa01</td><td>1955     </td><td>1        </td><td>BRO      </td><td>NL       </td><td>119      </td><td>388      </td><td>59       </td><td> 96      </td><td>16       </td><td>...      </td><td>5        </td><td>55       </td><td>45       </td><td>5        </td><td>6        </td><td>2        </td><td>4        </td><td>8        </td><td>0.5833333</td><td>0.5294118</td></tr>\n",
       "\t<tr><th scope=row>2200</th><td>bauerha01</td><td>1955     </td><td>1        </td><td>NYA      </td><td>AL       </td><td>139      </td><td>492      </td><td>97       </td><td>137      </td><td>20       </td><td>...      </td><td>4        </td><td>56       </td><td>65       </td><td>1        </td><td>8        </td><td>4        </td><td>3        </td><td>4        </td><td>0.4285714</td><td>0.4285714</td></tr>\n",
       "</tbody>\n",
       "</table>\n"
      ],
      "text/latex": [
       "\\begin{tabular}{r|llllllllllllllllllllllll}\n",
       "  & playerID & yearID & stint & teamID.x & lgID.x & G.x & AB.x & R.x & H.x & X2B.x & ... & CS.x & BB.x & SO.x & IBB.x & HBP.x & SH.x & SF.x & GIDP.x & P\\_SLG & P\\_OPS\\\\\n",
       "\\hline\n",
       "\t1837 & behrmha01 & 1947      & 1         & BRO       & NL        &   2       &   0       &  0        &   0       &  0        & ...       & 0         &  0        &  0        & 0         & 0         & 0         & 0         & 0         &       NaN &       NaN\\\\\n",
       "\t2004 & johnske01 & 1950      & 1         & SLN       & NL        &   2       &   0       &  0        &   0       &  0        & ...       & 0         &  0        &  0        & 0         & 0         & 0         & 0         & 0         &       NaN &       NaN\\\\\n",
       "\t2037 & hoguebo01 & 1951      & 3         & NYA       & AL        &   7       &   0       &  0        &   0       &  0        & ...       & 0         &  0        &  0        & 0         & 0         & 0         & 0         & 0         &       NaN &       NaN\\\\\n",
       "\t2043 & konikal01 & 1951      & 1         & NY1       & NL        &   3       &   0       &  0        &   0       &  0        & ...       & 0         &  0        &  0        & 0         & 0         & 0         & 0         & 0         &       NaN &       NaN\\\\\n",
       "\t2199 & amorosa01 & 1955      & 1         & BRO       & NL        & 119       & 388       & 59        &  96       & 16        & ...       & 5         & 55        & 45        & 5         & 6         & 2         & 4         & 8         & 0.5833333 & 0.5294118\\\\\n",
       "\t2200 & bauerha01 & 1955      & 1         & NYA       & AL        & 139       & 492       & 97        & 137       & 20        & ...       & 4         & 56        & 65        & 1         & 8         & 4         & 3         & 4         & 0.4285714 & 0.4285714\\\\\n",
       "\\end{tabular}\n"
      ],
      "text/markdown": [
       "\n",
       "| <!--/--> | playerID | yearID | stint | teamID.x | lgID.x | G.x | AB.x | R.x | H.x | X2B.x | ... | CS.x | BB.x | SO.x | IBB.x | HBP.x | SH.x | SF.x | GIDP.x | P_SLG | P_OPS | \n",
       "|---|---|---|---|---|---|\n",
       "| 1837 | behrmha01 | 1947      | 1         | BRO       | NL        |   2       |   0       |  0        |   0       |  0        | ...       | 0         |  0        |  0        | 0         | 0         | 0         | 0         | 0         |       NaN |       NaN | \n",
       "| 2004 | johnske01 | 1950      | 1         | SLN       | NL        |   2       |   0       |  0        |   0       |  0        | ...       | 0         |  0        |  0        | 0         | 0         | 0         | 0         | 0         |       NaN |       NaN | \n",
       "| 2037 | hoguebo01 | 1951      | 3         | NYA       | AL        |   7       |   0       |  0        |   0       |  0        | ...       | 0         |  0        |  0        | 0         | 0         | 0         | 0         | 0         |       NaN |       NaN | \n",
       "| 2043 | konikal01 | 1951      | 1         | NY1       | NL        |   3       |   0       |  0        |   0       |  0        | ...       | 0         |  0        |  0        | 0         | 0         | 0         | 0         | 0         |       NaN |       NaN | \n",
       "| 2199 | amorosa01 | 1955      | 1         | BRO       | NL        | 119       | 388       | 59        |  96       | 16        | ...       | 5         | 55        | 45        | 5         | 6         | 2         | 4         | 8         | 0.5833333 | 0.5294118 | \n",
       "| 2200 | bauerha01 | 1955      | 1         | NYA       | AL        | 139       | 492       | 97        | 137       | 20        | ...       | 4         | 56        | 65        | 1         | 8         | 4         | 3         | 4         | 0.4285714 | 0.4285714 | \n",
       "\n",
       "\n"
      ],
      "text/plain": [
       "     playerID  yearID stint teamID.x lgID.x G.x AB.x R.x H.x X2B.x ... CS.x\n",
       "1837 behrmha01 1947   1     BRO      NL       2   0   0    0  0    ... 0   \n",
       "2004 johnske01 1950   1     SLN      NL       2   0   0    0  0    ... 0   \n",
       "2037 hoguebo01 1951   3     NYA      AL       7   0   0    0  0    ... 0   \n",
       "2043 konikal01 1951   1     NY1      NL       3   0   0    0  0    ... 0   \n",
       "2199 amorosa01 1955   1     BRO      NL     119 388  59   96 16    ... 5   \n",
       "2200 bauerha01 1955   1     NYA      AL     139 492  97  137 20    ... 4   \n",
       "     BB.x SO.x IBB.x HBP.x SH.x SF.x GIDP.x P_SLG     P_OPS    \n",
       "1837  0    0   0     0     0    0    0            NaN       NaN\n",
       "2004  0    0   0     0     0    0    0            NaN       NaN\n",
       "2037  0    0   0     0     0    0    0            NaN       NaN\n",
       "2043  0    0   0     0     0    0    0            NaN       NaN\n",
       "2199 55   45   5     6     2    4    8      0.5833333 0.5294118\n",
       "2200 56   65   1     8     4    3    4      0.4285714 0.4285714"
      ]
     },
     "metadata": {},
     "output_type": "display_data"
    },
    {
     "data": {
      "text/plain": [
       "   playerID             yearID         stint          teamID.x    lgID.x   \n",
       " Length:12594       Min.   :1947   Min.   :1.000   NYA    :1230   AA:   0  \n",
       " Class :character   1st Qu.:1986   1st Qu.:1.000   SLN    : 880   AL:6252  \n",
       " Mode  :character   Median :2000   Median :1.000   LAN    : 714   FL:   0  \n",
       "                    Mean   :1996   Mean   :1.091   ATL    : 704   NA:   0  \n",
       "                    3rd Qu.:2009   3rd Qu.:1.000   BOS    : 656   NL:6342  \n",
       "                    Max.   :2016   Max.   :3.000   OAK    : 624   PL:   0  \n",
       "                                                   (Other):7786   UA:   0  \n",
       "      G.x              AB.x            R.x              H.x        \n",
       " Min.   :  1.00   Min.   :  0.0   Min.   :  0.00   Min.   :  0.00  \n",
       " 1st Qu.: 34.00   1st Qu.:  5.0   1st Qu.:  0.00   1st Qu.:  1.00  \n",
       " Median : 67.00   Median :116.0   Median : 14.00   Median : 29.00  \n",
       " Mean   : 77.53   Mean   :208.2   Mean   : 29.71   Mean   : 56.24  \n",
       " 3rd Qu.:123.00   3rd Qu.:405.8   3rd Qu.: 54.00   3rd Qu.:108.00  \n",
       " Max.   :164.00   Max.   :716.0   Max.   :146.00   Max.   :242.00  \n",
       "                                                                   \n",
       "     X2B.x           X3B.x             HR.x            RBI.x       \n",
       " Min.   : 0.00   Min.   : 0.000   Min.   : 0.000   Min.   :  0.00  \n",
       " 1st Qu.: 0.00   1st Qu.: 0.000   1st Qu.: 0.000   1st Qu.:  0.00  \n",
       " Median : 5.00   Median : 0.000   Median : 2.000   Median : 13.00  \n",
       " Mean   :10.51   Mean   : 1.274   Mean   : 6.563   Mean   : 28.27  \n",
       " 3rd Qu.:19.00   3rd Qu.: 2.000   3rd Qu.:10.000   3rd Qu.: 50.00  \n",
       " Max.   :56.00   Max.   :21.000   Max.   :66.000   Max.   :165.00  \n",
       "                                                                   \n",
       "      SB.x             CS.x             BB.x            SO.x       \n",
       " Min.   :  0.00   Min.   : 0.000   Min.   :  0.0   Min.   :  0.00  \n",
       " 1st Qu.:  0.00   1st Qu.: 0.000   1st Qu.:  0.0   1st Qu.:  2.00  \n",
       " Median :  0.00   Median : 0.000   Median : 10.0   Median : 24.00  \n",
       " Mean   :  4.08   Mean   : 1.694   Mean   : 21.4   Mean   : 36.74  \n",
       " 3rd Qu.:  4.00   3rd Qu.: 2.000   3rd Qu.: 35.0   3rd Qu.: 62.00  \n",
       " Max.   :110.00   Max.   :31.000   Max.   :198.0   Max.   :219.00  \n",
       "                                                                   \n",
       "     IBB.x            HBP.x             SH.x             SF.x       \n",
       " Min.   : 0.000   Min.   : 0.000   Min.   : 0.000   Min.   : 0.000  \n",
       " 1st Qu.: 0.000   1st Qu.: 0.000   1st Qu.: 0.000   1st Qu.: 0.000  \n",
       " Median : 0.000   Median : 0.000   Median : 0.000   Median : 1.000  \n",
       " Mean   : 1.939   Mean   : 1.838   Mean   : 1.981   Mean   : 1.846  \n",
       " 3rd Qu.: 2.000   3rd Qu.: 3.000   3rd Qu.: 3.000   3rd Qu.: 3.000  \n",
       " Max.   :68.000   Max.   :35.000   Max.   :39.000   Max.   :17.000  \n",
       "                                                                    \n",
       "     GIDP.x           P_SLG           P_OPS      \n",
       " Min.   : 0.000   Min.   :0.000   Min.   :0.000  \n",
       " 1st Qu.: 0.000   1st Qu.:0.000   1st Qu.:0.091  \n",
       " Median : 2.000   Median :0.273   Median :0.278  \n",
       " Mean   : 4.699   Mean   :0.327   Mean   :0.276  \n",
       " 3rd Qu.: 8.000   3rd Qu.:0.500   3rd Qu.:0.400  \n",
       " Max.   :32.000   Max.   :4.000   Max.   :1.000  \n",
       "                  NA's   :4203    NA's   :4119   "
      ]
     },
     "metadata": {},
     "output_type": "display_data"
    },
    {
     "name": "stderr",
     "output_type": "stream",
     "text": [
      "Warning message in var(if (is.vector(x) || is.factor(x)) x else as.double(x), na.rm = na.rm):\n",
      "\"NAs introduced by coercion\"Warning message in var(if (is.vector(x) || is.factor(x)) x else as.double(x), na.rm = na.rm):\n",
      "\"Calling var(x) on a factor x is deprecated and will become an error.\n",
      "  Use something like 'all(duplicated(x)[-1L])' to test for a constant vector.\"Warning message in var(if (is.vector(x) || is.factor(x)) x else as.double(x), na.rm = na.rm):\n",
      "\"Calling var(x) on a factor x is deprecated and will become an error.\n",
      "  Use something like 'all(duplicated(x)[-1L])' to test for a constant vector.\""
     ]
    },
    {
     "data": {
      "text/html": [
       "<dl class=dl-horizontal>\n",
       "\t<dt>playerID</dt>\n",
       "\t\t<dd>&lt;NA&gt;</dd>\n",
       "\t<dt>yearID</dt>\n",
       "\t\t<dd>15.2216541276427</dd>\n",
       "\t<dt>stint</dt>\n",
       "\t\t<dd>0.295622640217965</dd>\n",
       "\t<dt>teamID.x</dt>\n",
       "\t\t<dd>40.7444333775195</dd>\n",
       "\t<dt>lgID.x</dt>\n",
       "\t\t<dd>1.50002125192931</dd>\n",
       "\t<dt>G.x</dt>\n",
       "\t\t<dd>47.7757002266114</dd>\n",
       "\t<dt>AB.x</dt>\n",
       "\t\t<dd>215.305411588389</dd>\n",
       "\t<dt>R.x</dt>\n",
       "\t\t<dd>34.5103756507472</dd>\n",
       "\t<dt>H.x</dt>\n",
       "\t\t<dd>61.9895702192396</dd>\n",
       "\t<dt>X2B.x</dt>\n",
       "\t\t<dd>12.3471049460053</dd>\n",
       "\t<dt>X3B.x</dt>\n",
       "\t\t<dd>2.15026605095206</dd>\n",
       "\t<dt>HR.x</dt>\n",
       "\t\t<dd>9.76966550384271</dd>\n",
       "\t<dt>RBI.x</dt>\n",
       "\t\t<dd>34.0177718685156</dd>\n",
       "\t<dt>SB.x</dt>\n",
       "\t\t<dd>8.72176153319514</dd>\n",
       "\t<dt>CS.x</dt>\n",
       "\t\t<dd>2.99032361292503</dd>\n",
       "\t<dt>BB.x</dt>\n",
       "\t\t<dd>26.708755677652</dd>\n",
       "\t<dt>SO.x</dt>\n",
       "\t\t<dd>39.0227447938001</dd>\n",
       "\t<dt>IBB.x</dt>\n",
       "\t\t<dd>3.77123038360486</dd>\n",
       "\t<dt>HBP.x</dt>\n",
       "\t\t<dd>3.18888642729921</dd>\n",
       "\t<dt>SH.x</dt>\n",
       "\t\t<dd>3.19134332916875</dd>\n",
       "\t<dt>SF.x</dt>\n",
       "\t\t<dd>2.54150151574135</dd>\n",
       "\t<dt>GIDP.x</dt>\n",
       "\t\t<dd>5.77129329342729</dd>\n",
       "\t<dt>P_SLG</dt>\n",
       "\t\t<dd>0.362753731881722</dd>\n",
       "\t<dt>P_OPS</dt>\n",
       "\t\t<dd>0.223477409942987</dd>\n",
       "</dl>\n"
      ],
      "text/latex": [
       "\\begin{description*}\n",
       "\\item[playerID] <NA>\n",
       "\\item[yearID] 15.2216541276427\n",
       "\\item[stint] 0.295622640217965\n",
       "\\item[teamID.x] 40.7444333775195\n",
       "\\item[lgID.x] 1.50002125192931\n",
       "\\item[G.x] 47.7757002266114\n",
       "\\item[AB.x] 215.305411588389\n",
       "\\item[R.x] 34.5103756507472\n",
       "\\item[H.x] 61.9895702192396\n",
       "\\item[X2B.x] 12.3471049460053\n",
       "\\item[X3B.x] 2.15026605095206\n",
       "\\item[HR.x] 9.76966550384271\n",
       "\\item[RBI.x] 34.0177718685156\n",
       "\\item[SB.x] 8.72176153319514\n",
       "\\item[CS.x] 2.99032361292503\n",
       "\\item[BB.x] 26.708755677652\n",
       "\\item[SO.x] 39.0227447938001\n",
       "\\item[IBB.x] 3.77123038360486\n",
       "\\item[HBP.x] 3.18888642729921\n",
       "\\item[SH.x] 3.19134332916875\n",
       "\\item[SF.x] 2.54150151574135\n",
       "\\item[GIDP.x] 5.77129329342729\n",
       "\\item[P\\textbackslash{}\\_SLG] 0.362753731881722\n",
       "\\item[P\\textbackslash{}\\_OPS] 0.223477409942987\n",
       "\\end{description*}\n"
      ],
      "text/markdown": [
       "playerID\n",
       ":   &lt;NA&gt;yearID\n",
       ":   15.2216541276427stint\n",
       ":   0.295622640217965teamID.x\n",
       ":   40.7444333775195lgID.x\n",
       ":   1.50002125192931G.x\n",
       ":   47.7757002266114AB.x\n",
       ":   215.305411588389R.x\n",
       ":   34.5103756507472H.x\n",
       ":   61.9895702192396X2B.x\n",
       ":   12.3471049460053X3B.x\n",
       ":   2.15026605095206HR.x\n",
       ":   9.76966550384271RBI.x\n",
       ":   34.0177718685156SB.x\n",
       ":   8.72176153319514CS.x\n",
       ":   2.99032361292503BB.x\n",
       ":   26.708755677652SO.x\n",
       ":   39.0227447938001IBB.x\n",
       ":   3.77123038360486HBP.x\n",
       ":   3.18888642729921SH.x\n",
       ":   3.19134332916875SF.x\n",
       ":   2.54150151574135GIDP.x\n",
       ":   5.77129329342729P_SLG\n",
       ":   0.362753731881722P_OPS\n",
       ":   0.223477409942987\n",
       "\n"
      ],
      "text/plain": [
       "   playerID      yearID       stint    teamID.x      lgID.x         G.x \n",
       "         NA  15.2216541   0.2956226  40.7444334   1.5000213  47.7757002 \n",
       "       AB.x         R.x         H.x       X2B.x       X3B.x        HR.x \n",
       "215.3054116  34.5103757  61.9895702  12.3471049   2.1502661   9.7696655 \n",
       "      RBI.x        SB.x        CS.x        BB.x        SO.x       IBB.x \n",
       " 34.0177719   8.7217615   2.9903236  26.7087557  39.0227448   3.7712304 \n",
       "      HBP.x        SH.x        SF.x      GIDP.x       P_SLG       P_OPS \n",
       "  3.1888864   3.1913433   2.5415015   5.7712933   0.3627537   0.2234774 "
      ]
     },
     "metadata": {},
     "output_type": "display_data"
    }
   ],
   "source": [
    "# basic stats on dataset\n",
    "head(Pitcher_clean)\n",
    "summary(Pitcher_clean)\n",
    "sapply(Pitcher_clean, sd, na.rm=TRUE)"
   ]
  },
  {
   "cell_type": "code",
   "execution_count": 56,
   "metadata": {},
   "outputs": [
    {
     "name": "stderr",
     "output_type": "stream",
     "text": [
      "\n",
      "Attaching package: 'reshape2'\n",
      "\n",
      "The following object is masked from 'package:tidyr':\n",
      "\n",
      "    smiths\n",
      "\n",
      "Warning message in cor(Pitcher_clean[, -c(1, 2, 3, 4)]):\n",
      "\"the standard deviation is zero\""
     ]
    },
    {
     "data": {},
     "metadata": {},
     "output_type": "display_data"
    },
    {
     "data": {
      "image/png": "[encoded data removed]",
      "text/plain": [
       "plot without title"
      ]
     },
     "metadata": {},
     "output_type": "display_data"
    }
   ],
   "source": [
    "#Pitcher_clean$playerID = as.factor(Pitcher_clean$playerID)\n",
    "#Pitcher_clean$yearID = as.factor(Pitcher_clean$yearID)\n",
    "#Pitcher_clean$stint = as.factor(Pitcher_clean$stint)\n",
    "#Pitcher_clean$teamID = as.factor(Pitcher_clean$teamID)\n",
    "#Pitcher_clean$lgID = as.factor(Pitcher_clean$lgID)\n",
    "#head(Pitcher_clean)\n",
    "#cor(Pitcher_clean)\n",
    "\n",
    "## CORRELATIONS\n",
    "library(reshape2)\n",
    "Pitcher_clean$lgID.x = ifelse(Pitcher_clean$lgID.x==\"AL\", 1, 0)\n",
    "#head(Pitcher_clean)\n",
    "cormat = round(cor(Pitcher_clean[, -c(1, 2, 3, 4)]), 2)\n",
    "melted_cormat = melt(cormat)\n",
    "# ggplot(data = melted_cormat, aes(x=Var1, y=Var2, fill=value)) + \n",
    "#   geom_tile()\n",
    "\n",
    "# Get lower triangle of the correlation matrix\n",
    "  get_lower_tri<-function(cormat){\n",
    "    cormat[upper.tri(cormat)] <- NA\n",
    "    return(cormat)\n",
    "  }\n",
    "  # Get upper triangle of the correlation matrix\n",
    "  get_upper_tri <- function(cormat){\n",
    "    cormat[lower.tri(cormat)]<- NA\n",
    "    return(cormat)\n",
    "  }\n",
    "\n",
    "upper_tri <- get_upper_tri(cormat)\n",
    "#upper_tri\n",
    "\n",
    "# Melt the correlation matrix\n",
    "melted_cormat <- melt(upper_tri, na.rm = TRUE)\n",
    "# Heatmap\n",
    "ggplot(data = melted_cormat, aes(Var2, Var1, fill = value))+\n",
    " geom_tile(color = \"white\")+\n",
    " scale_fill_gradient2(low = \"blue\", high = \"red\", mid = \"white\", \n",
    "   midpoint = 0, limit = c(-1,1), space = \"Lab\", \n",
    "   name=\"Pearson\\nCorrelation\") +\n",
    "  theme_minimal()+ \n",
    " theme(axis.text.x = element_text(angle = 45, vjust = 1, \n",
    "    size = 12, hjust = 1))+\n",
    " coord_fixed()"
   ]
  },
  {
   "cell_type": "code",
   "execution_count": null,
   "metadata": {},
   "outputs": [],
   "source": [
    "# correlations specific to wins\n",
    "ggpairs(Pitcher_clean[ , c(6, 9, 13, 18, 25)])"
   ]
  },
  {
   "cell_type": "code",
   "execution_count": null,
   "metadata": {},
   "outputs": [],
   "source": [
    "# correlations specific to ER\n",
    "ggpairs(Pitcher_clean[ , c(6, 9, 13, 18, 25)])"
   ]
  }
 ],
 "metadata": {
  "kernelspec": {
   "display_name": "R",
   "language": "R",
   "name": "ir"
  },
  "language_info": {
   "codemirror_mode": "r",
   "file_extension": ".r",
   "mimetype": "text/x-r-source",
   "name": "R",
   "pygments_lexer": "r",
   "version": "3.4.4"
  }
 },
 "nbformat": 4,
 "nbformat_minor": 2
}
