{
 "cells": [
  {
   "cell_type": "markdown",
   "metadata": {},
   "source": [
    "# 1  Introduction"
   ]
  },
  {
   "cell_type": "markdown",
   "metadata": {},
   "source": [
    "Team: \n",
    "<par> David Grogan (SCPD Student) \n",
    "<par> Peter Gjeltema (SCPD Student)"
   ]
  },
  {
   "cell_type": "markdown",
   "metadata": {},
   "source": [
    "# 2 Choosing a dataset "
   ]
  },
  {
   "cell_type": "markdown",
   "metadata": {},
   "source": [
    "<par> Project Topic: MLB Baseball - Pitching Data\n",
    "<par> Dataset: Lahman's Baseball Database (https://cran.r-project.org/web/packages/Lahman/Lahman.pdf)"
   ]
  },
  {
   "cell_type": "markdown",
   "metadata": {},
   "source": [
    "# 3 Register a Team"
   ]
  },
  {
   "cell_type": "markdown",
   "metadata": {},
   "source": [
    "[X] COMPLETE"
   ]
  },
  {
   "cell_type": "markdown",
   "metadata": {},
   "source": [
    "# 4 Setting Aside a Holdout"
   ]
  },
  {
   "cell_type": "code",
   "execution_count": 1,
   "metadata": {},
   "outputs": [
    {
     "name": "stderr",
     "output_type": "stream",
     "text": [
      "-- Attaching packages --------------------------------------- tidyverse 1.2.1 --\n",
      "v ggplot2 3.0.0     v purrr   0.2.5\n",
      "v tibble  1.4.2     v dplyr   0.7.6\n",
      "v tidyr   0.8.1     v stringr 1.3.1\n",
      "v readr   1.1.1     v forcats 0.3.0\n",
      "-- Conflicts ------------------------------------------ tidyverse_conflicts() --\n",
      "x dplyr::filter() masks stats::filter()\n",
      "x dplyr::lag()    masks stats::lag()\n",
      "\n",
      "Attaching package: 'GGally'\n",
      "\n",
      "The following object is masked from 'package:dplyr':\n",
      "\n",
      "    nasa\n",
      "\n"
     ]
    }
   ],
   "source": [
    "# load packages\n",
    "library(Lahman)\n",
    "library(tidyverse)\n",
    "library(GGally)"
   ]
  },
  {
   "cell_type": "code",
   "execution_count": 2,
   "metadata": {},
   "outputs": [],
   "source": [
    "?Lahman"
   ]
  },
  {
   "cell_type": "code",
   "execution_count": 3,
   "metadata": {},
   "outputs": [],
   "source": [
    "# # create data set combining playoff and reg season pitching stats\n",
    "# cat(\"Pitching table dim: \", dim(PitchingPost), \"\\n\")\n",
    "# aug_pitch = inner_join(PitchingPost, Pitching, by=c(\"playerID\", \"yearID\")) %>% na.omit()\n",
    "# cat(\"Pitcher w/ Postseason clean dim: \", dim(aug_pitch), \"\\n\")\n",
    "\n",
    "# ##PROBLEM - DOES CLEANED DATASET GIVE ENOUGH VALUES?\n",
    "\n",
    "# Pitcher_clean = Pitching %>% na.omit()\n",
    "# #Pitcher_clean = Pitching[complete.cases(Pitching), ]\n",
    "# cat(\"Pitcher_clean dim: \", dim(Pitcher_clean))\n",
    "\n",
    "# ## THIS SEEMS MORE REASONABLE - LARGER N, SMALLER P"
   ]
  },
  {
   "cell_type": "code",
   "execution_count": 15,
   "metadata": {},
   "outputs": [
    {
     "data": {
      "text/html": [
       "<ol class=list-inline>\n",
       "\t<li>102816</li>\n",
       "\t<li>22</li>\n",
       "</ol>\n"
      ],
      "text/latex": [
       "\\begin{enumerate*}\n",
       "\\item 102816\n",
       "\\item 22\n",
       "\\end{enumerate*}\n"
      ],
      "text/markdown": [
       "1. 102816\n",
       "2. 22\n",
       "\n",
       "\n"
      ],
      "text/plain": [
       "[1] 102816     22"
      ]
     },
     "metadata": {},
     "output_type": "display_data"
    },
    {
     "data": {
      "text/html": [
       "<ol class=list-inline>\n",
       "\t<li>12594</li>\n",
       "\t<li>42</li>\n",
       "</ol>\n"
      ],
      "text/latex": [
       "\\begin{enumerate*}\n",
       "\\item 12594\n",
       "\\item 42\n",
       "\\end{enumerate*}\n"
      ],
      "text/markdown": [
       "1. 12594\n",
       "2. 42\n",
       "\n",
       "\n"
      ],
      "text/plain": [
       "[1] 12594    42"
      ]
     },
     "metadata": {},
     "output_type": "display_data"
    },
    {
     "data": {
      "text/html": [
       "<table>\n",
       "<thead><tr><th></th><th scope=col>playerID</th><th scope=col>yearID</th><th scope=col>stint</th><th scope=col>teamID.x</th><th scope=col>lgID.x</th><th scope=col>G.x</th><th scope=col>AB.x</th><th scope=col>R.x</th><th scope=col>H.x</th><th scope=col>X2B.x</th><th scope=col>...</th><th scope=col>SO.y</th><th scope=col>IBB.y</th><th scope=col>HBP.y</th><th scope=col>SH.y</th><th scope=col>SF.y</th><th scope=col>GIDP.y</th><th scope=col>P_SLG</th><th scope=col>P_OBP</th><th scope=col>P_OPS</th><th scope=col>P_BA</th></tr></thead>\n",
       "<tbody>\n",
       "\t<tr><th scope=row>2199</th><td>amorosa01</td><td>1955     </td><td>1        </td><td>BRO      </td><td>NL       </td><td>119      </td><td>388      </td><td>59       </td><td> 96      </td><td>16       </td><td>...      </td><td>4        </td><td>1        </td><td>1        </td><td>0        </td><td>0        </td><td>0        </td><td>0.5833333</td><td>0.5294118</td><td>1.1127451</td><td>0.3333333</td></tr>\n",
       "\t<tr><th scope=row>2200</th><td>bauerha01</td><td>1955     </td><td>1        </td><td>NYA      </td><td>AL       </td><td>139      </td><td>492      </td><td>97       </td><td>137      </td><td>20       </td><td>...      </td><td>1        </td><td>0        </td><td>0        </td><td>0        </td><td>0        </td><td>0        </td><td>0.4285714</td><td>0.4285714</td><td>0.8571429</td><td>0.4285714</td></tr>\n",
       "\t<tr><th scope=row>2201</th><td>berrayo01</td><td>1955     </td><td>1        </td><td>NYA      </td><td>AL       </td><td>147      </td><td>541      </td><td>84       </td><td>147      </td><td>20       </td><td>...      </td><td>1        </td><td>0        </td><td>1        </td><td>0        </td><td>0        </td><td>0        </td><td>0.5833333</td><td>0.5000000</td><td>1.0833333</td><td>0.4166667</td></tr>\n",
       "\t<tr><th scope=row>2202</th><td>bessedo01</td><td>1955     </td><td>1        </td><td>BRO      </td><td>NL       </td><td> 24      </td><td> 20      </td><td> 1       </td><td>  2      </td><td> 0       </td><td>...      </td><td>1        </td><td>0        </td><td>0        </td><td>0        </td><td>0        </td><td>0        </td><td>0.0000000</td><td>0.0000000</td><td>0.0000000</td><td>0.0000000</td></tr>\n",
       "\t<tr><th scope=row>2203</th><td>byrneto01</td><td>1955     </td><td>1        </td><td>NYA      </td><td>AL       </td><td> 45      </td><td> 78      </td><td> 6       </td><td> 16      </td><td> 1       </td><td>...      </td><td>2        </td><td>0        </td><td>0        </td><td>0        </td><td>0        </td><td>1        </td><td>0.1666667</td><td>0.1666667</td><td>0.3333333</td><td>0.1666667</td></tr>\n",
       "\t<tr><th scope=row>2204</th><td>camparo01</td><td>1955     </td><td>1        </td><td>BRO      </td><td>NL       </td><td>123      </td><td>446      </td><td>81       </td><td>142      </td><td>20       </td><td>...      </td><td>3        </td><td>0        </td><td>0        </td><td>1        </td><td>0        </td><td>0        </td><td>0.5925926</td><td>0.3333333</td><td>0.9259259</td><td>0.2592593</td></tr>\n",
       "</tbody>\n",
       "</table>\n"
      ],
      "text/latex": [
       "\\begin{tabular}{r|llllllllllllllllllllllllllllllllllllllllllllll}\n",
       "  & playerID & yearID & stint & teamID.x & lgID.x & G.x & AB.x & R.x & H.x & X2B.x & ... & SO.y & IBB.y & HBP.y & SH.y & SF.y & GIDP.y & P\\_SLG & P\\_OBP & P\\_OPS & P\\_BA\\\\\n",
       "\\hline\n",
       "\t2199 & amorosa01 & 1955      & 1         & BRO       & NL        & 119       & 388       & 59        &  96       & 16        & ...       & 4         & 1         & 1         & 0         & 0         & 0         & 0.5833333 & 0.5294118 & 1.1127451 & 0.3333333\\\\\n",
       "\t2200 & bauerha01 & 1955      & 1         & NYA       & AL        & 139       & 492       & 97        & 137       & 20        & ...       & 1         & 0         & 0         & 0         & 0         & 0         & 0.4285714 & 0.4285714 & 0.8571429 & 0.4285714\\\\\n",
       "\t2201 & berrayo01 & 1955      & 1         & NYA       & AL        & 147       & 541       & 84        & 147       & 20        & ...       & 1         & 0         & 1         & 0         & 0         & 0         & 0.5833333 & 0.5000000 & 1.0833333 & 0.4166667\\\\\n",
       "\t2202 & bessedo01 & 1955      & 1         & BRO       & NL        &  24       &  20       &  1        &   2       &  0        & ...       & 1         & 0         & 0         & 0         & 0         & 0         & 0.0000000 & 0.0000000 & 0.0000000 & 0.0000000\\\\\n",
       "\t2203 & byrneto01 & 1955      & 1         & NYA       & AL        &  45       &  78       &  6        &  16       &  1        & ...       & 2         & 0         & 0         & 0         & 0         & 1         & 0.1666667 & 0.1666667 & 0.3333333 & 0.1666667\\\\\n",
       "\t2204 & camparo01 & 1955      & 1         & BRO       & NL        & 123       & 446       & 81        & 142       & 20        & ...       & 3         & 0         & 0         & 1         & 0         & 0         & 0.5925926 & 0.3333333 & 0.9259259 & 0.2592593\\\\\n",
       "\\end{tabular}\n"
      ],
      "text/markdown": [
       "\n",
       "| <!--/--> | playerID | yearID | stint | teamID.x | lgID.x | G.x | AB.x | R.x | H.x | X2B.x | ... | SO.y | IBB.y | HBP.y | SH.y | SF.y | GIDP.y | P_SLG | P_OBP | P_OPS | P_BA | \n",
       "|---|---|---|---|---|---|\n",
       "| 2199 | amorosa01 | 1955      | 1         | BRO       | NL        | 119       | 388       | 59        |  96       | 16        | ...       | 4         | 1         | 1         | 0         | 0         | 0         | 0.5833333 | 0.5294118 | 1.1127451 | 0.3333333 | \n",
       "| 2200 | bauerha01 | 1955      | 1         | NYA       | AL        | 139       | 492       | 97        | 137       | 20        | ...       | 1         | 0         | 0         | 0         | 0         | 0         | 0.4285714 | 0.4285714 | 0.8571429 | 0.4285714 | \n",
       "| 2201 | berrayo01 | 1955      | 1         | NYA       | AL        | 147       | 541       | 84        | 147       | 20        | ...       | 1         | 0         | 1         | 0         | 0         | 0         | 0.5833333 | 0.5000000 | 1.0833333 | 0.4166667 | \n",
       "| 2202 | bessedo01 | 1955      | 1         | BRO       | NL        |  24       |  20       |  1        |   2       |  0        | ...       | 1         | 0         | 0         | 0         | 0         | 0         | 0.0000000 | 0.0000000 | 0.0000000 | 0.0000000 | \n",
       "| 2203 | byrneto01 | 1955      | 1         | NYA       | AL        |  45       |  78       |  6        |  16       |  1        | ...       | 2         | 0         | 0         | 0         | 0         | 1         | 0.1666667 | 0.1666667 | 0.3333333 | 0.1666667 | \n",
       "| 2204 | camparo01 | 1955      | 1         | BRO       | NL        | 123       | 446       | 81        | 142       | 20        | ...       | 3         | 0         | 0         | 1         | 0         | 0         | 0.5925926 | 0.3333333 | 0.9259259 | 0.2592593 | \n",
       "\n",
       "\n"
      ],
      "text/plain": [
       "     playerID  yearID stint teamID.x lgID.x G.x AB.x R.x H.x X2B.x ... SO.y\n",
       "2199 amorosa01 1955   1     BRO      NL     119 388  59   96 16    ... 4   \n",
       "2200 bauerha01 1955   1     NYA      AL     139 492  97  137 20    ... 1   \n",
       "2201 berrayo01 1955   1     NYA      AL     147 541  84  147 20    ... 1   \n",
       "2202 bessedo01 1955   1     BRO      NL      24  20   1    2  0    ... 1   \n",
       "2203 byrneto01 1955   1     NYA      AL      45  78   6   16  1    ... 2   \n",
       "2204 camparo01 1955   1     BRO      NL     123 446  81  142 20    ... 3   \n",
       "     IBB.y HBP.y SH.y SF.y GIDP.y P_SLG     P_OBP     P_OPS     P_BA     \n",
       "2199 1     1     0    0    0      0.5833333 0.5294118 1.1127451 0.3333333\n",
       "2200 0     0     0    0    0      0.4285714 0.4285714 0.8571429 0.4285714\n",
       "2201 0     1     0    0    0      0.5833333 0.5000000 1.0833333 0.4166667\n",
       "2202 0     0     0    0    0      0.0000000 0.0000000 0.0000000 0.0000000\n",
       "2203 0     0     0    0    1      0.1666667 0.1666667 0.3333333 0.1666667\n",
       "2204 0     0     1    0    0      0.5925926 0.3333333 0.9259259 0.2592593"
      ]
     },
     "metadata": {},
     "output_type": "display_data"
    },
    {
     "data": {
      "text/html": [
       "<ol class=list-inline>\n",
       "\t<li>8391</li>\n",
       "\t<li>26</li>\n",
       "</ol>\n"
      ],
      "text/latex": [
       "\\begin{enumerate*}\n",
       "\\item 8391\n",
       "\\item 26\n",
       "\\end{enumerate*}\n"
      ],
      "text/markdown": [
       "1. 8391\n",
       "2. 26\n",
       "\n",
       "\n"
      ],
      "text/plain": [
       "[1] 8391   26"
      ]
     },
     "metadata": {},
     "output_type": "display_data"
    }
   ],
   "source": [
    "dim(Batting)\n",
    "# TODO later: how are players who were traded midseason represented here?\n",
    "aug_bat = inner_join(Batting, BattingPost, by=c(\"playerID\", \"yearID\")) %>% na.omit()\n",
    "dim(aug_bat)\n",
    "#head(aug_bat)\n",
    "#colnames(aug_bat)\n",
    "\n",
    "aug_bat$P_SLG = (1*(aug_bat$H.y - aug_bat$X2B.y - aug_bat$X3B.y - aug_bat$HR.y)  + 2*aug_bat$X2B.y + 3*aug_bat$X3B.y + 4*aug_bat$HR.y)/aug_bat$AB.y\n",
    "aug_bat$P_OBP = (aug_bat$H.y + aug_bat$BB.y + aug_bat$HBP.y)/ (aug_bat$AB.y + aug_bat$BB.y + aug_bat$HBP.y + aug_bat$SF.y)\n",
    "aug_bat$P_OPS = aug_bat$P_SLG + aug_bat$P_OBP\n",
    "aug_bat$P_BA  = aug_bat$H.y / aug_bat$AB.y\n",
    "aug_bat = aug_bat %>% na.omit()\n",
    "head(aug_bat)\n",
    "#fin_bat =  aug_bat[, c(1:22)], aug_bat[, c(42:44)]) #cbind(aug_bat[, c(1:22)], aug_bat[, c(42:44)])\n",
    "fin_bat = aug_bat[ , -c(23:42)]\n",
    "dim(fin_bat)\n",
    "Pitcher_clean = fin_bat"
   ]
  },
  {
   "cell_type": "code",
   "execution_count": 16,
   "metadata": {},
   "outputs": [],
   "source": [
    "write.csv(fin_bat, file = \"fin_bat.csv\",row.names=FALSE)"
   ]
  },
  {
   "cell_type": "code",
   "execution_count": 11,
   "metadata": {},
   "outputs": [],
   "source": [
    "# 80-20 split\n",
    "set.seed(1)\n",
    "set_size = dim(Pitcher_clean)[1]\n",
    "train = sample(seq(set_size), 0.8*set_size)\n",
    "clean_pitching_train = Pitcher_clean[train, ]\n",
    "clean_pitching_test = Pitcher_clean[-train, ]"
   ]
  },
  {
   "cell_type": "markdown",
   "metadata": {},
   "source": [
    "# 5 Investigating and Exploring the Data"
   ]
  },
  {
   "cell_type": "code",
   "execution_count": 12,
   "metadata": {},
   "outputs": [
    {
     "data": {
      "text/html": [
       "<table>\n",
       "<thead><tr><th></th><th scope=col>playerID</th><th scope=col>yearID</th><th scope=col>stint</th><th scope=col>teamID.x</th><th scope=col>lgID.x</th><th scope=col>G.x</th><th scope=col>AB.x</th><th scope=col>R.x</th><th scope=col>H.x</th><th scope=col>X2B.x</th><th scope=col>...</th><th scope=col>SO.x</th><th scope=col>IBB.x</th><th scope=col>HBP.x</th><th scope=col>SH.x</th><th scope=col>SF.x</th><th scope=col>GIDP.x</th><th scope=col>P_SLG</th><th scope=col>P_OBP</th><th scope=col>P_OPS</th><th scope=col>P_BA</th></tr></thead>\n",
       "<tbody>\n",
       "\t<tr><th scope=row>2199</th><td>amorosa01</td><td>1955     </td><td>1        </td><td>BRO      </td><td>NL       </td><td>119      </td><td>388      </td><td>59       </td><td> 96      </td><td>16       </td><td>...      </td><td>45       </td><td>5        </td><td>6        </td><td>2        </td><td>4        </td><td> 8       </td><td>0.5833333</td><td>0.5294118</td><td>1.1127451</td><td>0.3333333</td></tr>\n",
       "\t<tr><th scope=row>2200</th><td>bauerha01</td><td>1955     </td><td>1        </td><td>NYA      </td><td>AL       </td><td>139      </td><td>492      </td><td>97       </td><td>137      </td><td>20       </td><td>...      </td><td>65       </td><td>1        </td><td>8        </td><td>4        </td><td>3        </td><td> 4       </td><td>0.4285714</td><td>0.4285714</td><td>0.8571429</td><td>0.4285714</td></tr>\n",
       "\t<tr><th scope=row>2201</th><td>berrayo01</td><td>1955     </td><td>1        </td><td>NYA      </td><td>AL       </td><td>147      </td><td>541      </td><td>84       </td><td>147      </td><td>20       </td><td>...      </td><td>20       </td><td>6        </td><td>7        </td><td>2        </td><td>5        </td><td>13       </td><td>0.5833333</td><td>0.5000000</td><td>1.0833333</td><td>0.4166667</td></tr>\n",
       "\t<tr><th scope=row>2202</th><td>bessedo01</td><td>1955     </td><td>1        </td><td>BRO      </td><td>NL       </td><td> 24      </td><td> 20      </td><td> 1       </td><td>  2      </td><td> 0       </td><td>...      </td><td> 8       </td><td>0        </td><td>0        </td><td>3        </td><td>0        </td><td> 1       </td><td>0.0000000</td><td>0.0000000</td><td>0.0000000</td><td>0.0000000</td></tr>\n",
       "\t<tr><th scope=row>2203</th><td>byrneto01</td><td>1955     </td><td>1        </td><td>NYA      </td><td>AL       </td><td> 45      </td><td> 78      </td><td> 6       </td><td> 16      </td><td> 1       </td><td>...      </td><td>15       </td><td>0        </td><td>0        </td><td>1        </td><td>2        </td><td> 3       </td><td>0.1666667</td><td>0.1666667</td><td>0.3333333</td><td>0.1666667</td></tr>\n",
       "\t<tr><th scope=row>2204</th><td>camparo01</td><td>1955     </td><td>1        </td><td>BRO      </td><td>NL       </td><td>123      </td><td>446      </td><td>81       </td><td>142      </td><td>20       </td><td>...      </td><td>41       </td><td>9        </td><td>6        </td><td>5        </td><td>9        </td><td>14       </td><td>0.5925926</td><td>0.3333333</td><td>0.9259259</td><td>0.2592593</td></tr>\n",
       "</tbody>\n",
       "</table>\n"
      ],
      "text/latex": [
       "\\begin{tabular}{r|llllllllllllllllllllllllll}\n",
       "  & playerID & yearID & stint & teamID.x & lgID.x & G.x & AB.x & R.x & H.x & X2B.x & ... & SO.x & IBB.x & HBP.x & SH.x & SF.x & GIDP.x & P\\_SLG & P\\_OBP & P\\_OPS & P\\_BA\\\\\n",
       "\\hline\n",
       "\t2199 & amorosa01 & 1955      & 1         & BRO       & NL        & 119       & 388       & 59        &  96       & 16        & ...       & 45        & 5         & 6         & 2         & 4         &  8        & 0.5833333 & 0.5294118 & 1.1127451 & 0.3333333\\\\\n",
       "\t2200 & bauerha01 & 1955      & 1         & NYA       & AL        & 139       & 492       & 97        & 137       & 20        & ...       & 65        & 1         & 8         & 4         & 3         &  4        & 0.4285714 & 0.4285714 & 0.8571429 & 0.4285714\\\\\n",
       "\t2201 & berrayo01 & 1955      & 1         & NYA       & AL        & 147       & 541       & 84        & 147       & 20        & ...       & 20        & 6         & 7         & 2         & 5         & 13        & 0.5833333 & 0.5000000 & 1.0833333 & 0.4166667\\\\\n",
       "\t2202 & bessedo01 & 1955      & 1         & BRO       & NL        &  24       &  20       &  1        &   2       &  0        & ...       &  8        & 0         & 0         & 3         & 0         &  1        & 0.0000000 & 0.0000000 & 0.0000000 & 0.0000000\\\\\n",
       "\t2203 & byrneto01 & 1955      & 1         & NYA       & AL        &  45       &  78       &  6        &  16       &  1        & ...       & 15        & 0         & 0         & 1         & 2         &  3        & 0.1666667 & 0.1666667 & 0.3333333 & 0.1666667\\\\\n",
       "\t2204 & camparo01 & 1955      & 1         & BRO       & NL        & 123       & 446       & 81        & 142       & 20        & ...       & 41        & 9         & 6         & 5         & 9         & 14        & 0.5925926 & 0.3333333 & 0.9259259 & 0.2592593\\\\\n",
       "\\end{tabular}\n"
      ],
      "text/markdown": [
       "\n",
       "| <!--/--> | playerID | yearID | stint | teamID.x | lgID.x | G.x | AB.x | R.x | H.x | X2B.x | ... | SO.x | IBB.x | HBP.x | SH.x | SF.x | GIDP.x | P_SLG | P_OBP | P_OPS | P_BA | \n",
       "|---|---|---|---|---|---|\n",
       "| 2199 | amorosa01 | 1955      | 1         | BRO       | NL        | 119       | 388       | 59        |  96       | 16        | ...       | 45        | 5         | 6         | 2         | 4         |  8        | 0.5833333 | 0.5294118 | 1.1127451 | 0.3333333 | \n",
       "| 2200 | bauerha01 | 1955      | 1         | NYA       | AL        | 139       | 492       | 97        | 137       | 20        | ...       | 65        | 1         | 8         | 4         | 3         |  4        | 0.4285714 | 0.4285714 | 0.8571429 | 0.4285714 | \n",
       "| 2201 | berrayo01 | 1955      | 1         | NYA       | AL        | 147       | 541       | 84        | 147       | 20        | ...       | 20        | 6         | 7         | 2         | 5         | 13        | 0.5833333 | 0.5000000 | 1.0833333 | 0.4166667 | \n",
       "| 2202 | bessedo01 | 1955      | 1         | BRO       | NL        |  24       |  20       |  1        |   2       |  0        | ...       |  8        | 0         | 0         | 3         | 0         |  1        | 0.0000000 | 0.0000000 | 0.0000000 | 0.0000000 | \n",
       "| 2203 | byrneto01 | 1955      | 1         | NYA       | AL        |  45       |  78       |  6        |  16       |  1        | ...       | 15        | 0         | 0         | 1         | 2         |  3        | 0.1666667 | 0.1666667 | 0.3333333 | 0.1666667 | \n",
       "| 2204 | camparo01 | 1955      | 1         | BRO       | NL        | 123       | 446       | 81        | 142       | 20        | ...       | 41        | 9         | 6         | 5         | 9         | 14        | 0.5925926 | 0.3333333 | 0.9259259 | 0.2592593 | \n",
       "\n",
       "\n"
      ],
      "text/plain": [
       "     playerID  yearID stint teamID.x lgID.x G.x AB.x R.x H.x X2B.x ... SO.x\n",
       "2199 amorosa01 1955   1     BRO      NL     119 388  59   96 16    ... 45  \n",
       "2200 bauerha01 1955   1     NYA      AL     139 492  97  137 20    ... 65  \n",
       "2201 berrayo01 1955   1     NYA      AL     147 541  84  147 20    ... 20  \n",
       "2202 bessedo01 1955   1     BRO      NL      24  20   1    2  0    ...  8  \n",
       "2203 byrneto01 1955   1     NYA      AL      45  78   6   16  1    ... 15  \n",
       "2204 camparo01 1955   1     BRO      NL     123 446  81  142 20    ... 41  \n",
       "     IBB.x HBP.x SH.x SF.x GIDP.x P_SLG     P_OBP     P_OPS     P_BA     \n",
       "2199 5     6     2    4     8     0.5833333 0.5294118 1.1127451 0.3333333\n",
       "2200 1     8     4    3     4     0.4285714 0.4285714 0.8571429 0.4285714\n",
       "2201 6     7     2    5    13     0.5833333 0.5000000 1.0833333 0.4166667\n",
       "2202 0     0     3    0     1     0.0000000 0.0000000 0.0000000 0.0000000\n",
       "2203 0     0     1    2     3     0.1666667 0.1666667 0.3333333 0.1666667\n",
       "2204 9     6     5    9    14     0.5925926 0.3333333 0.9259259 0.2592593"
      ]
     },
     "metadata": {},
     "output_type": "display_data"
    },
    {
     "data": {
      "text/plain": [
       "   playerID             yearID         stint          teamID.x    lgID.x   \n",
       " Length:8391        Min.   :1955   Min.   :1.000   NYA    : 778   AA:   0  \n",
       " Class :character   1st Qu.:1983   1st Qu.:1.000   SLN    : 628   AL:3799  \n",
       " Mode  :character   Median :1999   Median :1.000   ATL    : 516   FL:   0  \n",
       "                    Mean   :1995   Mean   :1.084   LAN    : 512   NA:   0  \n",
       "                    3rd Qu.:2008   3rd Qu.:1.000   OAK    : 414   NL:4592  \n",
       "                    Max.   :2016   Max.   :3.000   SFN    : 379   PL:   0  \n",
       "                                                   (Other):5164   UA:   0  \n",
       "      G.x              AB.x            R.x              H.x        \n",
       " Min.   :  1.00   Min.   :  0.0   Min.   :  0.00   Min.   :  0.00  \n",
       " 1st Qu.: 48.00   1st Qu.:102.5   1st Qu.: 12.00   1st Qu.: 25.00  \n",
       " Median :102.00   Median :300.0   Median : 38.00   Median : 79.00  \n",
       " Mean   : 94.86   Mean   :304.0   Mean   : 43.67   Mean   : 82.65  \n",
       " 3rd Qu.:140.00   3rd Qu.:493.0   3rd Qu.: 71.00   3rd Qu.:136.00  \n",
       " Max.   :164.00   Max.   :716.0   Max.   :146.00   Max.   :242.00  \n",
       "                                                                   \n",
       "     X2B.x           X3B.x            HR.x            RBI.x       \n",
       " Min.   : 0.00   Min.   : 0.00   Min.   : 0.000   Min.   :  0.00  \n",
       " 1st Qu.: 4.00   1st Qu.: 0.00   1st Qu.: 1.000   1st Qu.: 11.00  \n",
       " Median :14.00   Median : 1.00   Median : 6.000   Median : 35.00  \n",
       " Mean   :15.49   Mean   : 1.87   Mean   : 9.745   Mean   : 41.72  \n",
       " 3rd Qu.:25.00   3rd Qu.: 3.00   3rd Qu.:15.000   3rd Qu.: 66.00  \n",
       " Max.   :56.00   Max.   :21.00   Max.   :66.000   Max.   :165.00  \n",
       "                                                                  \n",
       "      SB.x              CS.x            BB.x             SO.x       \n",
       " Min.   :  0.000   Min.   : 0.00   Min.   :  0.00   Min.   :  0.00  \n",
       " 1st Qu.:  0.000   1st Qu.: 0.00   1st Qu.:  8.00   1st Qu.: 22.00  \n",
       " Median :  2.000   Median : 1.00   Median : 25.00   Median : 46.00  \n",
       " Mean   :  5.965   Mean   : 2.48   Mean   : 31.51   Mean   : 53.01  \n",
       " 3rd Qu.:  7.000   3rd Qu.: 4.00   3rd Qu.: 48.00   3rd Qu.: 78.00  \n",
       " Max.   :110.000   Max.   :31.00   Max.   :198.00   Max.   :219.00  \n",
       "                                                                    \n",
       "     IBB.x            HBP.x             SH.x             SF.x       \n",
       " Min.   : 0.000   Min.   : 0.000   Min.   : 0.000   Min.   : 0.000  \n",
       " 1st Qu.: 0.000   1st Qu.: 0.000   1st Qu.: 0.000   1st Qu.: 0.000  \n",
       " Median : 1.000   Median : 2.000   Median : 1.000   Median : 2.000  \n",
       " Mean   : 2.879   Mean   : 2.702   Mean   : 2.597   Mean   : 2.719  \n",
       " 3rd Qu.: 4.000   3rd Qu.: 4.000   3rd Qu.: 4.000   3rd Qu.: 4.000  \n",
       " Max.   :68.000   Max.   :35.000   Max.   :39.000   Max.   :17.000  \n",
       "                                                                    \n",
       "     GIDP.x          P_SLG            P_OBP             P_OPS       \n",
       " Min.   : 0.00   Min.   :0.0000   Min.   :0.00000   Min.   :0.0000  \n",
       " 1st Qu.: 2.00   1st Qu.:0.0000   1st Qu.:0.09091   1st Qu.:0.1429  \n",
       " Median : 6.00   Median :0.2727   Median :0.27586   Median :0.5606  \n",
       " Mean   : 6.89   Mean   :0.3266   Mean   :0.27000   Mean   :0.5966  \n",
       " 3rd Qu.:11.00   3rd Qu.:0.5000   3rd Qu.:0.39286   3rd Qu.:0.8730  \n",
       " Max.   :32.00   Max.   :4.0000   Max.   :1.00000   Max.   :5.0000  \n",
       "                                                                    \n",
       "      P_BA       \n",
       " Min.   :0.0000  \n",
       " 1st Qu.:0.0000  \n",
       " Median :0.2000  \n",
       " Mean   :0.2138  \n",
       " 3rd Qu.:0.3333  \n",
       " Max.   :1.0000  \n",
       "                 "
      ]
     },
     "metadata": {},
     "output_type": "display_data"
    },
    {
     "name": "stderr",
     "output_type": "stream",
     "text": [
      "Warning message in var(if (is.vector(x) || is.factor(x)) x else as.double(x), na.rm = na.rm):\n",
      "\"NAs introduced by coercion\"Warning message in var(if (is.vector(x) || is.factor(x)) x else as.double(x), na.rm = na.rm):\n",
      "\"Calling var(x) on a factor x is deprecated and will become an error.\n",
      "  Use something like 'all(duplicated(x)[-1L])' to test for a constant vector.\"Warning message in var(if (is.vector(x) || is.factor(x)) x else as.double(x), na.rm = na.rm):\n",
      "\"Calling var(x) on a factor x is deprecated and will become an error.\n",
      "  Use something like 'all(duplicated(x)[-1L])' to test for a constant vector.\""
     ]
    },
    {
     "data": {
      "text/html": [
       "<dl class=dl-horizontal>\n",
       "\t<dt>playerID</dt>\n",
       "\t\t<dd>&lt;NA&gt;</dd>\n",
       "\t<dt>yearID</dt>\n",
       "\t\t<dd>15.7035377616317</dd>\n",
       "\t<dt>stint</dt>\n",
       "\t\t<dd>0.285754930876354</dd>\n",
       "\t<dt>teamID.x</dt>\n",
       "\t\t<dd>40.7164729986255</dd>\n",
       "\t<dt>lgID.x</dt>\n",
       "\t\t<dd>1.49337542477671</dd>\n",
       "\t<dt>G.x</dt>\n",
       "\t\t<dd>47.7172086301218</dd>\n",
       "\t<dt>AB.x</dt>\n",
       "\t\t<dd>202.442963405073</dd>\n",
       "\t<dt>R.x</dt>\n",
       "\t\t<dd>34.414910880615</dd>\n",
       "\t<dt>H.x</dt>\n",
       "\t\t<dd>60.1108058609973</dd>\n",
       "\t<dt>X2B.x</dt>\n",
       "\t\t<dd>12.3434225374061</dd>\n",
       "\t<dt>X3B.x</dt>\n",
       "\t\t<dd>2.40107414135584</dd>\n",
       "\t<dt>HR.x</dt>\n",
       "\t\t<dd>10.598573868481</dd>\n",
       "\t<dt>RBI.x</dt>\n",
       "\t\t<dd>34.3927988821496</dd>\n",
       "\t<dt>SB.x</dt>\n",
       "\t\t<dd>10.0691149010774</dd>\n",
       "\t<dt>CS.x</dt>\n",
       "\t\t<dd>3.36015504492423</dd>\n",
       "\t<dt>BB.x</dt>\n",
       "\t\t<dd>27.4639824302838</dd>\n",
       "\t<dt>SO.x</dt>\n",
       "\t\t<dd>37.9627846532008</dd>\n",
       "\t<dt>IBB.x</dt>\n",
       "\t\t<dd>4.31262322391089</dd>\n",
       "\t<dt>HBP.x</dt>\n",
       "\t\t<dd>3.58453747260892</dd>\n",
       "\t<dt>SH.x</dt>\n",
       "\t\t<dd>3.50602176543585</dd>\n",
       "\t<dt>SF.x</dt>\n",
       "\t\t<dd>2.70264355776128</dd>\n",
       "\t<dt>GIDP.x</dt>\n",
       "\t\t<dd>5.90604960470913</dd>\n",
       "\t<dt>P_SLG</dt>\n",
       "\t\t<dd>0.362753731881722</dd>\n",
       "\t<dt>P_OBP</dt>\n",
       "\t\t<dd>0.213639497986685</dd>\n",
       "\t<dt>P_OPS</dt>\n",
       "\t\t<dd>0.544757946321124</dd>\n",
       "\t<dt>P_BA</dt>\n",
       "\t\t<dd>0.203107538465138</dd>\n",
       "</dl>\n"
      ],
      "text/latex": [
       "\\begin{description*}\n",
       "\\item[playerID] <NA>\n",
       "\\item[yearID] 15.7035377616317\n",
       "\\item[stint] 0.285754930876354\n",
       "\\item[teamID.x] 40.7164729986255\n",
       "\\item[lgID.x] 1.49337542477671\n",
       "\\item[G.x] 47.7172086301218\n",
       "\\item[AB.x] 202.442963405073\n",
       "\\item[R.x] 34.414910880615\n",
       "\\item[H.x] 60.1108058609973\n",
       "\\item[X2B.x] 12.3434225374061\n",
       "\\item[X3B.x] 2.40107414135584\n",
       "\\item[HR.x] 10.598573868481\n",
       "\\item[RBI.x] 34.3927988821496\n",
       "\\item[SB.x] 10.0691149010774\n",
       "\\item[CS.x] 3.36015504492423\n",
       "\\item[BB.x] 27.4639824302838\n",
       "\\item[SO.x] 37.9627846532008\n",
       "\\item[IBB.x] 4.31262322391089\n",
       "\\item[HBP.x] 3.58453747260892\n",
       "\\item[SH.x] 3.50602176543585\n",
       "\\item[SF.x] 2.70264355776128\n",
       "\\item[GIDP.x] 5.90604960470913\n",
       "\\item[P\\textbackslash{}\\_SLG] 0.362753731881722\n",
       "\\item[P\\textbackslash{}\\_OBP] 0.213639497986685\n",
       "\\item[P\\textbackslash{}\\_OPS] 0.544757946321124\n",
       "\\item[P\\textbackslash{}\\_BA] 0.203107538465138\n",
       "\\end{description*}\n"
      ],
      "text/markdown": [
       "playerID\n",
       ":   &lt;NA&gt;yearID\n",
       ":   15.7035377616317stint\n",
       ":   0.285754930876354teamID.x\n",
       ":   40.7164729986255lgID.x\n",
       ":   1.49337542477671G.x\n",
       ":   47.7172086301218AB.x\n",
       ":   202.442963405073R.x\n",
       ":   34.414910880615H.x\n",
       ":   60.1108058609973X2B.x\n",
       ":   12.3434225374061X3B.x\n",
       ":   2.40107414135584HR.x\n",
       ":   10.598573868481RBI.x\n",
       ":   34.3927988821496SB.x\n",
       ":   10.0691149010774CS.x\n",
       ":   3.36015504492423BB.x\n",
       ":   27.4639824302838SO.x\n",
       ":   37.9627846532008IBB.x\n",
       ":   4.31262322391089HBP.x\n",
       ":   3.58453747260892SH.x\n",
       ":   3.50602176543585SF.x\n",
       ":   2.70264355776128GIDP.x\n",
       ":   5.90604960470913P_SLG\n",
       ":   0.362753731881722P_OBP\n",
       ":   0.213639497986685P_OPS\n",
       ":   0.544757946321124P_BA\n",
       ":   0.203107538465138\n",
       "\n"
      ],
      "text/plain": [
       "   playerID      yearID       stint    teamID.x      lgID.x         G.x \n",
       "         NA  15.7035378   0.2857549  40.7164730   1.4933754  47.7172086 \n",
       "       AB.x         R.x         H.x       X2B.x       X3B.x        HR.x \n",
       "202.4429634  34.4149109  60.1108059  12.3434225   2.4010741  10.5985739 \n",
       "      RBI.x        SB.x        CS.x        BB.x        SO.x       IBB.x \n",
       " 34.3927989  10.0691149   3.3601550  27.4639824  37.9627847   4.3126232 \n",
       "      HBP.x        SH.x        SF.x      GIDP.x       P_SLG       P_OBP \n",
       "  3.5845375   3.5060218   2.7026436   5.9060496   0.3627537   0.2136395 \n",
       "      P_OPS        P_BA \n",
       "  0.5447579   0.2031075 "
      ]
     },
     "metadata": {},
     "output_type": "display_data"
    }
   ],
   "source": [
    "# basic stats on dataset\n",
    "head(Pitcher_clean)\n",
    "summary(Pitcher_clean)\n",
    "sapply(Pitcher_clean, sd, na.rm=TRUE)"
   ]
  },
  {
   "cell_type": "code",
   "execution_count": 13,
   "metadata": {},
   "outputs": [
    {
     "data": {},
     "metadata": {},
     "output_type": "display_data"
    },
    {
     "data": {
      "image/png": "[encoded data removed]",
      "text/plain": [
       "plot without title"
      ]
     },
     "metadata": {},
     "output_type": "display_data"
    }
   ],
   "source": [
    "#Pitcher_clean$playerID = as.factor(Pitcher_clean$playerID)\n",
    "#Pitcher_clean$yearID = as.factor(Pitcher_clean$yearID)\n",
    "#Pitcher_clean$stint = as.factor(Pitcher_clean$stint)\n",
    "#Pitcher_clean$teamID = as.factor(Pitcher_clean$teamID)\n",
    "#Pitcher_clean$lgID = as.factor(Pitcher_clean$lgID)\n",
    "#head(Pitcher_clean)\n",
    "#cor(Pitcher_clean)\n",
    "\n",
    "## CORRELATIONS\n",
    "library(reshape2)\n",
    "Pitcher_clean$lgID.x = ifelse(Pitcher_clean$lgID.x==\"AL\", 1, 0)\n",
    "#head(Pitcher_clean)\n",
    "cormat = round(cor(Pitcher_clean[, -c(1, 2, 3, 4)]), 2)\n",
    "melted_cormat = melt(cormat)\n",
    "# ggplot(data = melted_cormat, aes(x=Var1, y=Var2, fill=value)) + \n",
    "#   geom_tile()\n",
    "\n",
    "# Get lower triangle of the correlation matrix\n",
    "  get_lower_tri<-function(cormat){\n",
    "    cormat[upper.tri(cormat)] <- NA\n",
    "    return(cormat)\n",
    "  }\n",
    "  # Get upper triangle of the correlation matrix\n",
    "  get_upper_tri <- function(cormat){\n",
    "    cormat[lower.tri(cormat)]<- NA\n",
    "    return(cormat)\n",
    "  }\n",
    "\n",
    "upper_tri <- get_upper_tri(cormat)\n",
    "#upper_tri\n",
    "\n",
    "# Melt the correlation matrix\n",
    "melted_cormat <- melt(upper_tri, na.rm = TRUE)\n",
    "# Heatmap\n",
    "ggplot(data = melted_cormat, aes(Var2, Var1, fill = value))+\n",
    " geom_tile(color = \"white\")+\n",
    " scale_fill_gradient2(low = \"blue\", high = \"red\", mid = \"white\", \n",
    "   midpoint = 0, limit = c(-1,1), space = \"Lab\", \n",
    "   name=\"Pearson\\nCorrelation\") +\n",
    "  theme_minimal()+ \n",
    " theme(axis.text.x = element_text(angle = 45, vjust = 1, \n",
    "    size = 12, hjust = 1))+\n",
    " coord_fixed()"
   ]
  },
  {
   "cell_type": "code",
   "execution_count": 19,
   "metadata": {},
   "outputs": [
    {
     "name": "stderr",
     "output_type": "stream",
     "text": [
      "`stat_bin()` using `bins = 30`. Pick better value with `binwidth`.\n",
      "`stat_bin()` using `bins = 30`. Pick better value with `binwidth`.\n",
      "`stat_bin()` using `bins = 30`. Pick better value with `binwidth`.\n",
      "`stat_bin()` using `bins = 30`. Pick better value with `binwidth`.\n",
      "`stat_bin()` using `bins = 30`. Pick better value with `binwidth`.\n",
      "`stat_bin()` using `bins = 30`. Pick better value with `binwidth`.\n",
      "`stat_bin()` using `bins = 30`. Pick better value with `binwidth`.\n",
      "`stat_bin()` using `bins = 30`. Pick better value with `binwidth`.\n",
      "`stat_bin()` using `bins = 30`. Pick better value with `binwidth`.\n",
      "`stat_bin()` using `bins = 30`. Pick better value with `binwidth`.\n",
      "`stat_bin()` using `bins = 30`. Pick better value with `binwidth`.\n",
      "`stat_bin()` using `bins = 30`. Pick better value with `binwidth`.\n",
      "`stat_bin()` using `bins = 30`. Pick better value with `binwidth`.\n",
      "`stat_bin()` using `bins = 30`. Pick better value with `binwidth`.\n",
      "`stat_bin()` using `bins = 30`. Pick better value with `binwidth`.\n",
      "`stat_bin()` using `bins = 30`. Pick better value with `binwidth`.\n",
      "`stat_bin()` using `bins = 30`. Pick better value with `binwidth`.\n",
      "`stat_bin()` using `bins = 30`. Pick better value with `binwidth`.\n",
      "`stat_bin()` using `bins = 30`. Pick better value with `binwidth`.\n",
      "`stat_bin()` using `bins = 30`. Pick better value with `binwidth`.\n",
      "`stat_bin()` using `bins = 30`. Pick better value with `binwidth`.\n",
      "`stat_bin()` using `bins = 30`. Pick better value with `binwidth`.\n",
      "`stat_bin()` using `bins = 30`. Pick better value with `binwidth`.\n"
     ]
    },
    {
     "data": {},
     "metadata": {},
     "output_type": "display_data"
    },
    {
     "data": {
      "image/png": "[encoded data removed]",
      "text/plain": [
       "plot without title"
      ]
     },
     "metadata": {},
     "output_type": "display_data"
    }
   ],
   "source": [
    "# correlations specific to wins\n",
    "ggpairs(Pitcher_clean[, -c(1, 4)])"
   ]
  },
  {
   "cell_type": "code",
   "execution_count": 9,
   "metadata": {},
   "outputs": [
    {
     "name": "stderr",
     "output_type": "stream",
     "text": [
      "Warning message in (function (data, mapping, alignPercent = 0.6, method = \"pearson\", :\n",
      "\"Removed 4203 rows containing missing values\"Warning message in (function (data, mapping, alignPercent = 0.6, method = \"pearson\", :\n",
      "\"Removed 4203 rows containing missing values\"Warning message in (function (data, mapping, alignPercent = 0.6, method = \"pearson\", :\n",
      "\"Removed 4203 rows containing missing values\"Warning message in (function (data, mapping, alignPercent = 0.6, method = \"pearson\", :\n",
      "\"Removed 4203 rows containing missing values\"Warning message:\n",
      "\"Removed 4203 rows containing missing values (geom_point).\"Warning message:\n",
      "\"Removed 4203 rows containing missing values (geom_point).\"Warning message:\n",
      "\"Removed 4203 rows containing missing values (geom_point).\"Warning message:\n",
      "\"Removed 4203 rows containing missing values (geom_point).\"Warning message:\n",
      "\"Removed 4203 rows containing non-finite values (stat_density).\""
     ]
    },
    {
     "data": {},
     "metadata": {},
     "output_type": "display_data"
    },
    {
     "data": {
      "image/png": "[encoded data removed]",
      "text/plain": [
       "plot without title"
      ]
     },
     "metadata": {},
     "output_type": "display_data"
    }
   ],
   "source": [
    "# correlations specific to ER\n",
    "ggpairs(Pitcher_clean[ , c(6, 9, 13, 18, 25)])"
   ]
  }
 ],
 "metadata": {
  "kernelspec": {
   "display_name": "R",
   "language": "R",
   "name": "ir"
  },
  "language_info": {
   "codemirror_mode": "r",
   "file_extension": ".r",
   "mimetype": "text/x-r-source",
   "name": "R",
   "pygments_lexer": "r",
   "version": "3.4.4"
  }
 },
 "nbformat": 4,
 "nbformat_minor": 2
}
