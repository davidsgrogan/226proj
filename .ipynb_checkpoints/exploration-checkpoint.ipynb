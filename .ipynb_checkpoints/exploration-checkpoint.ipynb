{
 "cells": [
  {
   "cell_type": "markdown",
   "metadata": {},
   "source": [
    "# 1  Introduction"
   ]
  },
  {
   "cell_type": "markdown",
   "metadata": {},
   "source": [
    "Team: \n",
    "<par> David Grogan (SCPD Student) \n",
    "<par> Peter Gjeltema (SCPD Student)"
   ]
  },
  {
   "cell_type": "markdown",
   "metadata": {},
   "source": [
    "# 2 Choosing a dataset "
   ]
  },
  {
   "cell_type": "markdown",
   "metadata": {},
   "source": [
    "<par> Project Topic: MLB Baseball - Pitching Data\n",
    "<par> Dataset: Lahman's Baseball Database (https://cran.r-project.org/web/packages/Lahman/Lahman.pdf)"
   ]
  },
  {
   "cell_type": "markdown",
   "metadata": {},
   "source": [
    "# 3 Register a Team"
   ]
  },
  {
   "cell_type": "markdown",
   "metadata": {},
   "source": [
    "[X] COMPLETE"
   ]
  },
  {
   "cell_type": "markdown",
   "metadata": {},
   "source": [
    "# 4 Setting Aside a Holdout"
   ]
  },
  {
   "cell_type": "code",
   "execution_count": 34,
   "metadata": {},
   "outputs": [
    {
     "name": "stderr",
     "output_type": "stream",
     "text": [
      "\n",
      "Attaching package: 'GGally'\n",
      "\n",
      "The following object is masked from 'package:dplyr':\n",
      "\n",
      "    nasa\n",
      "\n"
     ]
    }
   ],
   "source": [
    "# load packages\n",
    "library(Lahman)\n",
    "library(tidyverse)\n",
    "library(GGally)"
   ]
  },
  {
   "cell_type": "code",
   "execution_count": 5,
   "metadata": {},
   "outputs": [],
   "source": [
    "?Lahman"
   ]
  },
  {
   "cell_type": "code",
   "execution_count": 56,
   "metadata": {},
   "outputs": [
    {
     "name": "stdout",
     "output_type": "stream",
     "text": [
      "Pitching table dim:  5271 30 \n",
      "Pitcher w/ Postseason clean dim:  2744 58 \n",
      "Pitcher_clean dim:  12047 30"
     ]
    },
    {
     "data": {
      "text/html": [
       "<table>\n",
       "<thead><tr><th></th><th scope=col>playerID</th><th scope=col>yearID</th><th scope=col>stint</th><th scope=col>teamID</th><th scope=col>lgID</th><th scope=col>W</th><th scope=col>L</th><th scope=col>G</th><th scope=col>GS</th><th scope=col>CG</th><th scope=col>...</th><th scope=col>IBB</th><th scope=col>WP</th><th scope=col>HBP</th><th scope=col>BK</th><th scope=col>BFP</th><th scope=col>GF</th><th scope=col>R</th><th scope=col>SH</th><th scope=col>SF</th><th scope=col>GIDP</th></tr></thead>\n",
       "<tbody>\n",
       "\t<tr><th scope=row>44958</th><td>youngma03</td><td>2016     </td><td>1        </td><td>ATL      </td><td>NL       </td><td>0        </td><td>0        </td><td> 8       </td><td> 0       </td><td>0        </td><td>...      </td><td>0        </td><td>0        </td><td>1        </td><td>0        </td><td> 37      </td><td> 1       </td><td> 5       </td><td>1        </td><td>1        </td><td> 0       </td></tr>\n",
       "\t<tr><th scope=row>44959</th><td>zastrro01</td><td>2016     </td><td>1        </td><td>CHN      </td><td>NL       </td><td>1        </td><td>0        </td><td> 8       </td><td> 1       </td><td>0        </td><td>...      </td><td>0        </td><td>0        </td><td>1        </td><td>0        </td><td> 66      </td><td> 1       </td><td> 3       </td><td>0        </td><td>2        </td><td> 1       </td></tr>\n",
       "\t<tr><th scope=row>44960</th><td>zieglbr01</td><td>2016     </td><td>1        </td><td>ARI      </td><td>NL       </td><td>2        </td><td>3        </td><td>36       </td><td> 0       </td><td>0        </td><td>...      </td><td>5        </td><td>0        </td><td>2        </td><td>0        </td><td>165      </td><td>30       </td><td>13       </td><td>1        </td><td>1        </td><td>10       </td></tr>\n",
       "\t<tr><th scope=row>44961</th><td>zieglbr01</td><td>2016     </td><td>2        </td><td>BOS      </td><td>AL       </td><td>2        </td><td>4        </td><td>33       </td><td> 0       </td><td>0        </td><td>...      </td><td>2        </td><td>1        </td><td>1        </td><td>0        </td><td>124      </td><td>12       </td><td> 8       </td><td>1        </td><td>0        </td><td> 6       </td></tr>\n",
       "\t<tr><th scope=row>44962</th><td>zimmejo02</td><td>2016     </td><td>1        </td><td>DET      </td><td>AL       </td><td>9        </td><td>7        </td><td>19       </td><td>18       </td><td>0        </td><td>...      </td><td>0        </td><td>3        </td><td>2        </td><td>0        </td><td>450      </td><td> 1       </td><td>63       </td><td>1        </td><td>5        </td><td> 8       </td></tr>\n",
       "\t<tr><th scope=row>44963</th><td>zychto01 </td><td>2016     </td><td>1        </td><td>SEA      </td><td>AL       </td><td>1        </td><td>0        </td><td>12       </td><td> 0       </td><td>0        </td><td>...      </td><td>2        </td><td>0        </td><td>1        </td><td>0        </td><td> 60      </td><td> 3       </td><td> 6       </td><td>0        </td><td>1        </td><td> 1       </td></tr>\n",
       "</tbody>\n",
       "</table>\n"
      ],
      "text/latex": [
       "\\begin{tabular}{r|llllllllllllllllllllllllllllll}\n",
       "  & playerID & yearID & stint & teamID & lgID & W & L & G & GS & CG & ... & IBB & WP & HBP & BK & BFP & GF & R & SH & SF & GIDP\\\\\n",
       "\\hline\n",
       "\t44958 & youngma03 & 2016      & 1         & ATL       & NL        & 0         & 0         &  8        &  0        & 0         & ...       & 0         & 0         & 1         & 0         &  37       &  1        &  5        & 1         & 1         &  0       \\\\\n",
       "\t44959 & zastrro01 & 2016      & 1         & CHN       & NL        & 1         & 0         &  8        &  1        & 0         & ...       & 0         & 0         & 1         & 0         &  66       &  1        &  3        & 0         & 2         &  1       \\\\\n",
       "\t44960 & zieglbr01 & 2016      & 1         & ARI       & NL        & 2         & 3         & 36        &  0        & 0         & ...       & 5         & 0         & 2         & 0         & 165       & 30        & 13        & 1         & 1         & 10       \\\\\n",
       "\t44961 & zieglbr01 & 2016      & 2         & BOS       & AL        & 2         & 4         & 33        &  0        & 0         & ...       & 2         & 1         & 1         & 0         & 124       & 12        &  8        & 1         & 0         &  6       \\\\\n",
       "\t44962 & zimmejo02 & 2016      & 1         & DET       & AL        & 9         & 7         & 19        & 18        & 0         & ...       & 0         & 3         & 2         & 0         & 450       &  1        & 63        & 1         & 5         &  8       \\\\\n",
       "\t44963 & zychto01  & 2016      & 1         & SEA       & AL        & 1         & 0         & 12        &  0        & 0         & ...       & 2         & 0         & 1         & 0         &  60       &  3        &  6        & 0         & 1         &  1       \\\\\n",
       "\\end{tabular}\n"
      ],
      "text/markdown": [
       "\n",
       "| <!--/--> | playerID | yearID | stint | teamID | lgID | W | L | G | GS | CG | ... | IBB | WP | HBP | BK | BFP | GF | R | SH | SF | GIDP | \n",
       "|---|---|---|---|---|---|\n",
       "| 44958 | youngma03 | 2016      | 1         | ATL       | NL        | 0         | 0         |  8        |  0        | 0         | ...       | 0         | 0         | 1         | 0         |  37       |  1        |  5        | 1         | 1         |  0        | \n",
       "| 44959 | zastrro01 | 2016      | 1         | CHN       | NL        | 1         | 0         |  8        |  1        | 0         | ...       | 0         | 0         | 1         | 0         |  66       |  1        |  3        | 0         | 2         |  1        | \n",
       "| 44960 | zieglbr01 | 2016      | 1         | ARI       | NL        | 2         | 3         | 36        |  0        | 0         | ...       | 5         | 0         | 2         | 0         | 165       | 30        | 13        | 1         | 1         | 10        | \n",
       "| 44961 | zieglbr01 | 2016      | 2         | BOS       | AL        | 2         | 4         | 33        |  0        | 0         | ...       | 2         | 1         | 1         | 0         | 124       | 12        |  8        | 1         | 0         |  6        | \n",
       "| 44962 | zimmejo02 | 2016      | 1         | DET       | AL        | 9         | 7         | 19        | 18        | 0         | ...       | 0         | 3         | 2         | 0         | 450       |  1        | 63        | 1         | 5         |  8        | \n",
       "| 44963 | zychto01  | 2016      | 1         | SEA       | AL        | 1         | 0         | 12        |  0        | 0         | ...       | 2         | 0         | 1         | 0         |  60       |  3        |  6        | 0         | 1         |  1        | \n",
       "\n",
       "\n"
      ],
      "text/plain": [
       "      playerID  yearID stint teamID lgID W L G  GS CG ... IBB WP HBP BK BFP GF\n",
       "44958 youngma03 2016   1     ATL    NL   0 0  8  0 0  ... 0   0  1   0   37  1\n",
       "44959 zastrro01 2016   1     CHN    NL   1 0  8  1 0  ... 0   0  1   0   66  1\n",
       "44960 zieglbr01 2016   1     ARI    NL   2 3 36  0 0  ... 5   0  2   0  165 30\n",
       "44961 zieglbr01 2016   2     BOS    AL   2 4 33  0 0  ... 2   1  1   0  124 12\n",
       "44962 zimmejo02 2016   1     DET    AL   9 7 19 18 0  ... 0   3  2   0  450  1\n",
       "44963 zychto01  2016   1     SEA    AL   1 0 12  0 0  ... 2   0  1   0   60  3\n",
       "      R  SH SF GIDP\n",
       "44958  5 1  1   0  \n",
       "44959  3 0  2   1  \n",
       "44960 13 1  1  10  \n",
       "44961  8 1  0   6  \n",
       "44962 63 1  5   8  \n",
       "44963  6 0  1   1  "
      ]
     },
     "metadata": {},
     "output_type": "display_data"
    }
   ],
   "source": [
    "# create data set combining playoff and reg season pitching stats\n",
    "cat(\"Pitching table dim: \", dim(PitchingPost), \"\\n\")\n",
    "aug_pitch = inner_join(PitchingPost, Pitching, by=c(\"playerID\", \"yearID\")) %>% na.omit()\n",
    "cat(\"Pitcher w/ Postseason clean dim: \", dim(aug_pitch), \"\\n\")\n",
    "\n",
    "##PROBLEM - DOES CLEANED DATASET GIVE ENOUGH VALUES?\n",
    "\n",
    "Pitcher_clean = Pitching %>% na.omit()\n",
    "#Pitcher_clean = Pitching[complete.cases(Pitching), ]\n",
    "cat(\"Pitcher_clean dim: \", dim(Pitcher_clean))\n",
    "\n",
    "## THIS SEEMS MORE REASONABLE - LARGER N, SMALLER P"
   ]
  },
  {
   "cell_type": "markdown",
   "metadata": {},
   "source": [
    "# 5 Investigating and Exploring the Data"
   ]
  },
  {
   "cell_type": "code",
   "execution_count": 53,
   "metadata": {},
   "outputs": [
    {
     "data": {
      "text/html": [
       "<table>\n",
       "<thead><tr><th></th><th scope=col>playerID</th><th scope=col>yearID</th><th scope=col>stint</th><th scope=col>teamID</th><th scope=col>lgID</th><th scope=col>W</th><th scope=col>L</th><th scope=col>G</th><th scope=col>GS</th><th scope=col>CG</th><th scope=col>...</th><th scope=col>IBB</th><th scope=col>WP</th><th scope=col>HBP</th><th scope=col>BK</th><th scope=col>BFP</th><th scope=col>GF</th><th scope=col>R</th><th scope=col>SH</th><th scope=col>SF</th><th scope=col>GIDP</th></tr></thead>\n",
       "<tbody>\n",
       "\t<tr><th scope=row>32901</th><td>abbotpa01</td><td>2000     </td><td>1        </td><td>SEA      </td><td>AL       </td><td>9        </td><td>7        </td><td>35       </td><td>27       </td><td>0        </td><td>...      </td><td>4        </td><td>3        </td><td>5        </td><td>0        </td><td>766      </td><td> 2       </td><td>89       </td><td>1        </td><td>4        </td><td>20       </td></tr>\n",
       "\t<tr><th scope=row>32902</th><td>aceveju01</td><td>2000     </td><td>1        </td><td>MIL      </td><td>NL       </td><td>3        </td><td>7        </td><td>62       </td><td> 0       </td><td>0        </td><td>...      </td><td>9        </td><td>3        </td><td>1        </td><td>2        </td><td>347      </td><td>18       </td><td>38       </td><td>1        </td><td>1        </td><td> 7       </td></tr>\n",
       "\t<tr><th scope=row>32903</th><td>adamste01</td><td>2000     </td><td>1        </td><td>LAN      </td><td>NL       </td><td>6        </td><td>9        </td><td>66       </td><td> 0       </td><td>0        </td><td>...      </td><td>0        </td><td>5        </td><td>0        </td><td>0        </td><td>369      </td><td>18       </td><td>42       </td><td>3        </td><td>0        </td><td> 9       </td></tr>\n",
       "\t<tr><th scope=row>32904</th><td>aguilri01</td><td>2000     </td><td>1        </td><td>CHN      </td><td>NL       </td><td>1        </td><td>2        </td><td>54       </td><td> 0       </td><td>0        </td><td>...      </td><td>2        </td><td>1        </td><td>4        </td><td>0        </td><td>210      </td><td>44       </td><td>28       </td><td>1        </td><td>0        </td><td> 3       </td></tr>\n",
       "\t<tr><th scope=row>32905</th><td>aldresc01</td><td>2000     </td><td>1        </td><td>PHI      </td><td>NL       </td><td>1        </td><td>3        </td><td>23       </td><td> 0       </td><td>0        </td><td>...      </td><td>0        </td><td>1        </td><td>1        </td><td>0        </td><td> 95      </td><td> 5       </td><td>14       </td><td>1        </td><td>2        </td><td> 1       </td></tr>\n",
       "\t<tr><th scope=row>32906</th><td>alfonan01</td><td>2000     </td><td>1        </td><td>FLO      </td><td>NL       </td><td>5        </td><td>6        </td><td>68       </td><td> 0       </td><td>0        </td><td>...      </td><td>3        </td><td>0        </td><td>1        </td><td>2        </td><td>311      </td><td>62       </td><td>35       </td><td>3        </td><td>1        </td><td>10       </td></tr>\n",
       "</tbody>\n",
       "</table>\n"
      ],
      "text/latex": [
       "\\begin{tabular}{r|llllllllllllllllllllllllllllll}\n",
       "  & playerID & yearID & stint & teamID & lgID & W & L & G & GS & CG & ... & IBB & WP & HBP & BK & BFP & GF & R & SH & SF & GIDP\\\\\n",
       "\\hline\n",
       "\t32901 & abbotpa01 & 2000      & 1         & SEA       & AL        & 9         & 7         & 35        & 27        & 0         & ...       & 4         & 3         & 5         & 0         & 766       &  2        & 89        & 1         & 4         & 20       \\\\\n",
       "\t32902 & aceveju01 & 2000      & 1         & MIL       & NL        & 3         & 7         & 62        &  0        & 0         & ...       & 9         & 3         & 1         & 2         & 347       & 18        & 38        & 1         & 1         &  7       \\\\\n",
       "\t32903 & adamste01 & 2000      & 1         & LAN       & NL        & 6         & 9         & 66        &  0        & 0         & ...       & 0         & 5         & 0         & 0         & 369       & 18        & 42        & 3         & 0         &  9       \\\\\n",
       "\t32904 & aguilri01 & 2000      & 1         & CHN       & NL        & 1         & 2         & 54        &  0        & 0         & ...       & 2         & 1         & 4         & 0         & 210       & 44        & 28        & 1         & 0         &  3       \\\\\n",
       "\t32905 & aldresc01 & 2000      & 1         & PHI       & NL        & 1         & 3         & 23        &  0        & 0         & ...       & 0         & 1         & 1         & 0         &  95       &  5        & 14        & 1         & 2         &  1       \\\\\n",
       "\t32906 & alfonan01 & 2000      & 1         & FLO       & NL        & 5         & 6         & 68        &  0        & 0         & ...       & 3         & 0         & 1         & 2         & 311       & 62        & 35        & 3         & 1         & 10       \\\\\n",
       "\\end{tabular}\n"
      ],
      "text/markdown": [
       "\n",
       "| <!--/--> | playerID | yearID | stint | teamID | lgID | W | L | G | GS | CG | ... | IBB | WP | HBP | BK | BFP | GF | R | SH | SF | GIDP | \n",
       "|---|---|---|---|---|---|\n",
       "| 32901 | abbotpa01 | 2000      | 1         | SEA       | AL        | 9         | 7         | 35        | 27        | 0         | ...       | 4         | 3         | 5         | 0         | 766       |  2        | 89        | 1         | 4         | 20        | \n",
       "| 32902 | aceveju01 | 2000      | 1         | MIL       | NL        | 3         | 7         | 62        |  0        | 0         | ...       | 9         | 3         | 1         | 2         | 347       | 18        | 38        | 1         | 1         |  7        | \n",
       "| 32903 | adamste01 | 2000      | 1         | LAN       | NL        | 6         | 9         | 66        |  0        | 0         | ...       | 0         | 5         | 0         | 0         | 369       | 18        | 42        | 3         | 0         |  9        | \n",
       "| 32904 | aguilri01 | 2000      | 1         | CHN       | NL        | 1         | 2         | 54        |  0        | 0         | ...       | 2         | 1         | 4         | 0         | 210       | 44        | 28        | 1         | 0         |  3        | \n",
       "| 32905 | aldresc01 | 2000      | 1         | PHI       | NL        | 1         | 3         | 23        |  0        | 0         | ...       | 0         | 1         | 1         | 0         |  95       |  5        | 14        | 1         | 2         |  1        | \n",
       "| 32906 | alfonan01 | 2000      | 1         | FLO       | NL        | 5         | 6         | 68        |  0        | 0         | ...       | 3         | 0         | 1         | 2         | 311       | 62        | 35        | 3         | 1         | 10        | \n",
       "\n",
       "\n"
      ],
      "text/plain": [
       "      playerID  yearID stint teamID lgID W L G  GS CG ... IBB WP HBP BK BFP GF\n",
       "32901 abbotpa01 2000   1     SEA    AL   9 7 35 27 0  ... 4   3  5   0  766  2\n",
       "32902 aceveju01 2000   1     MIL    NL   3 7 62  0 0  ... 9   3  1   2  347 18\n",
       "32903 adamste01 2000   1     LAN    NL   6 9 66  0 0  ... 0   5  0   0  369 18\n",
       "32904 aguilri01 2000   1     CHN    NL   1 2 54  0 0  ... 2   1  4   0  210 44\n",
       "32905 aldresc01 2000   1     PHI    NL   1 3 23  0 0  ... 0   1  1   0   95  5\n",
       "32906 alfonan01 2000   1     FLO    NL   5 6 68  0 0  ... 3   0  1   2  311 62\n",
       "      R  SH SF GIDP\n",
       "32901 89 1  4  20  \n",
       "32902 38 1  1   7  \n",
       "32903 42 3  0   9  \n",
       "32904 28 1  0   3  \n",
       "32905 14 1  2   1  \n",
       "32906 35 3  1  10  "
      ]
     },
     "metadata": {},
     "output_type": "display_data"
    },
    {
     "data": {
      "text/plain": [
       "   playerID             yearID         stint           teamID     lgID     \n",
       " Length:12047       Min.   :2000   Min.   :1.000   TEX    : 457   AA:   0  \n",
       " Class :character   1st Qu.:2004   1st Qu.:1.000   SDN    : 448   AL:5682  \n",
       " Mode  :character   Median :2008   Median :1.000   CLE    : 436   FL:   0  \n",
       "                    Mean   :2008   Mean   :1.085   COL    : 436   NA:   0  \n",
       "                    3rd Qu.:2013   3rd Qu.:1.000   NYA    : 428   NL:6365  \n",
       "                    Max.   :2016   Max.   :4.000   TOR    : 421   PL:   0  \n",
       "                                                   (Other):9421   UA:   0  \n",
       "       W                L                G               GS        \n",
       " Min.   : 0.000   Min.   : 0.000   Min.   : 1.00   Min.   : 0.000  \n",
       " 1st Qu.: 0.000   1st Qu.: 0.000   1st Qu.: 9.00   1st Qu.: 0.000  \n",
       " Median : 2.000   Median : 2.000   Median :22.00   Median : 0.000  \n",
       " Mean   : 3.427   Mean   : 3.427   Mean   :26.41   Mean   : 6.856  \n",
       " 3rd Qu.: 5.000   3rd Qu.: 5.000   3rd Qu.:35.00   3rd Qu.:10.000  \n",
       " Max.   :24.000   Max.   :21.000   Max.   :94.00   Max.   :36.000  \n",
       "                                                                   \n",
       "       CG               SHO                SV             IPouts     \n",
       " Min.   : 0.0000   Min.   :0.00000   Min.   : 0.000   Min.   :  1.0  \n",
       " 1st Qu.: 0.0000   1st Qu.:0.00000   1st Qu.: 0.000   1st Qu.: 44.0  \n",
       " Median : 0.0000   Median :0.00000   Median : 0.000   Median :126.0  \n",
       " Mean   : 0.2186   Mean   :0.08898   Mean   : 1.734   Mean   :183.6  \n",
       " 3rd Qu.: 0.0000   3rd Qu.:0.00000   3rd Qu.: 0.000   3rd Qu.:235.0  \n",
       " Max.   :11.0000   Max.   :6.00000   Max.   :62.000   Max.   :798.0  \n",
       "                                                                     \n",
       "       H                ER               HR               BB        \n",
       " Min.   :  0.00   Min.   :  0.00   Min.   : 0.000   Min.   :  0.00  \n",
       " 1st Qu.: 16.00   1st Qu.:  8.00   1st Qu.: 2.000   1st Qu.:  7.00  \n",
       " Median : 41.00   Median : 19.00   Median : 5.000   Median : 16.00  \n",
       " Mean   : 61.21   Mean   : 28.82   Mean   : 7.106   Mean   : 22.06  \n",
       " 3rd Qu.: 80.00   3rd Qu.: 38.00   3rd Qu.:10.000   3rd Qu.: 31.00  \n",
       " Max.   :271.00   Max.   :145.00   Max.   :48.000   Max.   :125.00  \n",
       "                                                                    \n",
       "       SO             BAOpp             ERA               IBB        \n",
       " Min.   :  0.00   Min.   :0.0000   Min.   :  0.000   Min.   : 0.000  \n",
       " 1st Qu.: 11.00   1st Qu.:0.2340   1st Qu.:  3.330   1st Qu.: 0.000  \n",
       " Median : 32.00   Median :0.2650   Median :  4.420   Median : 1.000  \n",
       " Mean   : 47.69   Mean   :0.2716   Mean   :  5.413   Mean   : 1.707  \n",
       " 3rd Qu.: 67.00   3rd Qu.:0.3000   3rd Qu.:  5.890   3rd Qu.: 3.000  \n",
       " Max.   :372.00   Max.   :1.0000   Max.   :189.000   Max.   :17.000  \n",
       "                                                                     \n",
       "       WP              HBP               BK              BFP        \n",
       " Min.   : 0.000   Min.   : 0.000   Min.   :0.0000   Min.   :   1.0  \n",
       " 1st Qu.: 0.000   1st Qu.: 0.000   1st Qu.:0.0000   1st Qu.:  67.0  \n",
       " Median : 1.000   Median : 1.000   Median :0.0000   Median : 185.0  \n",
       " Mean   : 2.235   Mean   : 2.372   Mean   :0.2145   Mean   : 263.1  \n",
       " 3rd Qu.: 3.000   3rd Qu.: 3.000   3rd Qu.:0.0000   3rd Qu.: 336.0  \n",
       " Max.   :25.000   Max.   :21.000   Max.   :6.0000   Max.   :1071.0  \n",
       "                                                                    \n",
       "       GF               R                SH               SF        \n",
       " Min.   : 0.000   Min.   :  0.00   Min.   : 0.000   Min.   : 0.000  \n",
       " 1st Qu.: 0.000   1st Qu.:  9.00   1st Qu.: 0.000   1st Qu.: 0.000  \n",
       " Median : 2.000   Median : 21.00   Median : 1.000   Median : 1.000  \n",
       " Mean   : 6.637   Mean   : 31.27   Mean   : 2.145   Mean   : 1.881  \n",
       " 3rd Qu.: 8.000   3rd Qu.: 41.00   3rd Qu.: 3.000   3rd Qu.: 3.000  \n",
       " Max.   :79.000   Max.   :152.00   Max.   :21.000   Max.   :14.000  \n",
       "                                                                    \n",
       "      GIDP       \n",
       " Min.   : 0.000  \n",
       " 1st Qu.: 1.000  \n",
       " Median : 3.000  \n",
       " Mean   : 5.329  \n",
       " 3rd Qu.: 8.000  \n",
       " Max.   :40.000  \n",
       "                 "
      ]
     },
     "metadata": {},
     "output_type": "display_data"
    },
    {
     "name": "stderr",
     "output_type": "stream",
     "text": [
      "Warning message in var(if (is.vector(x) || is.factor(x)) x else as.double(x), na.rm = na.rm):\n",
      "\"NAs introduced by coercion\"Warning message in var(if (is.vector(x) || is.factor(x)) x else as.double(x), na.rm = na.rm):\n",
      "\"Calling var(x) on a factor x is deprecated and will become an error.\n",
      "  Use something like 'all(duplicated(x)[-1L])' to test for a constant vector.\"Warning message in var(if (is.vector(x) || is.factor(x)) x else as.double(x), na.rm = na.rm):\n",
      "\"Calling var(x) on a factor x is deprecated and will become an error.\n",
      "  Use something like 'all(duplicated(x)[-1L])' to test for a constant vector.\""
     ]
    },
    {
     "data": {
      "text/html": [
       "<dl class=dl-horizontal>\n",
       "\t<dt>playerID</dt>\n",
       "\t\t<dd>&lt;NA&gt;</dd>\n",
       "\t<dt>yearID</dt>\n",
       "\t\t<dd>4.93674075614118</dd>\n",
       "\t<dt>stint</dt>\n",
       "\t\t<dd>0.291884566216726</dd>\n",
       "\t<dt>teamID</dt>\n",
       "\t\t<dd>41.0243273856161</dd>\n",
       "\t<dt>lgID</dt>\n",
       "\t\t<dd>1.49764951026803</dd>\n",
       "\t<dt>W</dt>\n",
       "\t\t<dd>4.27541006325152</dd>\n",
       "\t<dt>L</dt>\n",
       "\t\t<dd>3.71553609716569</dd>\n",
       "\t<dt>G</dt>\n",
       "\t\t<dd>21.108484775931</dd>\n",
       "\t<dt>GS</dt>\n",
       "\t\t<dd>10.8548389678223</dd>\n",
       "\t<dt>CG</dt>\n",
       "\t\t<dd>0.756953083668928</dd>\n",
       "\t<dt>SHO</dt>\n",
       "\t\t<dd>0.369945125661014</dd>\n",
       "\t<dt>SV</dt>\n",
       "\t\t<dd>6.64339278993019</dd>\n",
       "\t<dt>IPouts</dt>\n",
       "\t\t<dd>181.380864174508</dd>\n",
       "\t<dt>H</dt>\n",
       "\t\t<dd>60.4110962113092</dd>\n",
       "\t<dt>ER</dt>\n",
       "\t\t<dd>27.792143018645</dd>\n",
       "\t<dt>HR</dt>\n",
       "\t\t<dd>7.44421948429528</dd>\n",
       "\t<dt>BB</dt>\n",
       "\t\t<dd>20.2184436261345</dd>\n",
       "\t<dt>SO</dt>\n",
       "\t\t<dd>49.0864279161171</dd>\n",
       "\t<dt>BAOpp</dt>\n",
       "\t\t<dd>0.0759872033630634</dd>\n",
       "\t<dt>ERA</dt>\n",
       "\t\t<dd>5.80702640834</dd>\n",
       "\t<dt>IBB</dt>\n",
       "\t\t<dd>2.01719294695346</dd>\n",
       "\t<dt>WP</dt>\n",
       "\t\t<dd>2.6486385126873</dd>\n",
       "\t<dt>HBP</dt>\n",
       "\t\t<dd>2.82569987434794</dd>\n",
       "\t<dt>BK</dt>\n",
       "\t\t<dd>0.544831379459479</dd>\n",
       "\t<dt>BFP</dt>\n",
       "\t\t<dd>254.750624595369</dd>\n",
       "\t<dt>GF</dt>\n",
       "\t\t<dd>11.1156685428198</dd>\n",
       "\t<dt>R</dt>\n",
       "\t\t<dd>30.1105458669436</dd>\n",
       "\t<dt>SH</dt>\n",
       "\t\t<dd>2.71092444635075</dd>\n",
       "\t<dt>SF</dt>\n",
       "\t\t<dd>2.12176232443782</dd>\n",
       "\t<dt>GIDP</dt>\n",
       "\t\t<dd>5.99090738912984</dd>\n",
       "</dl>\n"
      ],
      "text/latex": [
       "\\begin{description*}\n",
       "\\item[playerID] <NA>\n",
       "\\item[yearID] 4.93674075614118\n",
       "\\item[stint] 0.291884566216726\n",
       "\\item[teamID] 41.0243273856161\n",
       "\\item[lgID] 1.49764951026803\n",
       "\\item[W] 4.27541006325152\n",
       "\\item[L] 3.71553609716569\n",
       "\\item[G] 21.108484775931\n",
       "\\item[GS] 10.8548389678223\n",
       "\\item[CG] 0.756953083668928\n",
       "\\item[SHO] 0.369945125661014\n",
       "\\item[SV] 6.64339278993019\n",
       "\\item[IPouts] 181.380864174508\n",
       "\\item[H] 60.4110962113092\n",
       "\\item[ER] 27.792143018645\n",
       "\\item[HR] 7.44421948429528\n",
       "\\item[BB] 20.2184436261345\n",
       "\\item[SO] 49.0864279161171\n",
       "\\item[BAOpp] 0.0759872033630634\n",
       "\\item[ERA] 5.80702640834\n",
       "\\item[IBB] 2.01719294695346\n",
       "\\item[WP] 2.6486385126873\n",
       "\\item[HBP] 2.82569987434794\n",
       "\\item[BK] 0.544831379459479\n",
       "\\item[BFP] 254.750624595369\n",
       "\\item[GF] 11.1156685428198\n",
       "\\item[R] 30.1105458669436\n",
       "\\item[SH] 2.71092444635075\n",
       "\\item[SF] 2.12176232443782\n",
       "\\item[GIDP] 5.99090738912984\n",
       "\\end{description*}\n"
      ],
      "text/markdown": [
       "playerID\n",
       ":   &lt;NA&gt;yearID\n",
       ":   4.93674075614118stint\n",
       ":   0.291884566216726teamID\n",
       ":   41.0243273856161lgID\n",
       ":   1.49764951026803W\n",
       ":   4.27541006325152L\n",
       ":   3.71553609716569G\n",
       ":   21.108484775931GS\n",
       ":   10.8548389678223CG\n",
       ":   0.756953083668928SHO\n",
       ":   0.369945125661014SV\n",
       ":   6.64339278993019IPouts\n",
       ":   181.380864174508H\n",
       ":   60.4110962113092ER\n",
       ":   27.792143018645HR\n",
       ":   7.44421948429528BB\n",
       ":   20.2184436261345SO\n",
       ":   49.0864279161171BAOpp\n",
       ":   0.0759872033630634ERA\n",
       ":   5.80702640834IBB\n",
       ":   2.01719294695346WP\n",
       ":   2.6486385126873HBP\n",
       ":   2.82569987434794BK\n",
       ":   0.544831379459479BFP\n",
       ":   254.750624595369GF\n",
       ":   11.1156685428198R\n",
       ":   30.1105458669436SH\n",
       ":   2.71092444635075SF\n",
       ":   2.12176232443782GIDP\n",
       ":   5.99090738912984\n",
       "\n"
      ],
      "text/plain": [
       "   playerID      yearID       stint      teamID        lgID           W \n",
       "         NA   4.9367408   0.2918846  41.0243274   1.4976495   4.2754101 \n",
       "          L           G          GS          CG         SHO          SV \n",
       "  3.7155361  21.1084848  10.8548390   0.7569531   0.3699451   6.6433928 \n",
       "     IPouts           H          ER          HR          BB          SO \n",
       "181.3808642  60.4110962  27.7921430   7.4442195  20.2184436  49.0864279 \n",
       "      BAOpp         ERA         IBB          WP         HBP          BK \n",
       "  0.0759872   5.8070264   2.0171929   2.6486385   2.8256999   0.5448314 \n",
       "        BFP          GF           R          SH          SF        GIDP \n",
       "254.7506246  11.1156685  30.1105459   2.7109244   2.1217623   5.9909074 "
      ]
     },
     "metadata": {},
     "output_type": "display_data"
    }
   ],
   "source": [
    "# basic stats on dataset\n",
    "head(Pitcher_clean)\n",
    "summary(Pitcher_clean)\n",
    "sapply(Pitcher_clean, sd, na.rm=TRUE)"
   ]
  },
  {
   "cell_type": "code",
   "execution_count": 83,
   "metadata": {},
   "outputs": [
    {
     "name": "stderr",
     "output_type": "stream",
     "text": [
      "Warning message in cor(Pitcher_clean[, -c(1, 2, 3, 4)]):\n",
      "\"the standard deviation is zero\""
     ]
    },
    {
     "data": {
      "text/html": [
       "<table>\n",
       "<thead><tr><th></th><th scope=col>lgID</th><th scope=col>W</th><th scope=col>L</th><th scope=col>G</th><th scope=col>GS</th><th scope=col>CG</th><th scope=col>SHO</th><th scope=col>SV</th><th scope=col>IPouts</th><th scope=col>H</th><th scope=col>...</th><th scope=col>IBB</th><th scope=col>WP</th><th scope=col>HBP</th><th scope=col>BK</th><th scope=col>BFP</th><th scope=col>GF</th><th scope=col>R</th><th scope=col>SH</th><th scope=col>SF</th><th scope=col>GIDP</th></tr></thead>\n",
       "<tbody>\n",
       "\t<tr><th scope=row>lgID</th><td> 1   </td><td>NA   </td><td>  NA </td><td>  NA </td><td>  NA </td><td>  NA </td><td>  NA </td><td>   NA</td><td>  NA </td><td>   NA</td><td>...  </td><td>   NA</td><td>   NA</td><td>   NA</td><td>   NA</td><td>   NA</td><td>   NA</td><td>   NA</td><td>   NA</td><td>   NA</td><td>   NA</td></tr>\n",
       "\t<tr><th scope=row>W</th><td>NA   </td><td> 1   </td><td>0.72 </td><td>0.32 </td><td>0.85 </td><td>0.58 </td><td>0.49 </td><td>-0.01</td><td>0.92 </td><td> 0.88</td><td>...  </td><td> 0.37</td><td> 0.55</td><td> 0.64</td><td> 0.30</td><td> 0.91</td><td>-0.08</td><td> 0.82</td><td> 0.66</td><td> 0.63</td><td> 0.80</td></tr>\n",
       "\t<tr><th scope=row>L</th><td>NA   </td><td>NA   </td><td>1.00 </td><td>0.28 </td><td>0.84 </td><td>0.45 </td><td>0.35 </td><td> 0.01</td><td>0.86 </td><td> 0.89</td><td>...  </td><td> 0.43</td><td> 0.56</td><td> 0.66</td><td> 0.31</td><td> 0.88</td><td>-0.06</td><td> 0.91</td><td> 0.68</td><td> 0.69</td><td> 0.77</td></tr>\n",
       "\t<tr><th scope=row>G</th><td>NA   </td><td>NA   </td><td>  NA </td><td>1.00 </td><td>0.00 </td><td>0.04 </td><td>0.03 </td><td> 0.42</td><td>0.36 </td><td> 0.30</td><td>...  </td><td> 0.52</td><td> 0.33</td><td> 0.27</td><td> 0.13</td><td> 0.35</td><td> 0.67</td><td> 0.26</td><td> 0.30</td><td> 0.28</td><td> 0.30</td></tr>\n",
       "\t<tr><th scope=row>GS</th><td>NA   </td><td>NA   </td><td>  NA </td><td>  NA </td><td>1.00 </td><td>0.57 </td><td>0.46 </td><td>-0.16</td><td>0.92 </td><td> 0.93</td><td>...  </td><td> 0.27</td><td> 0.54</td><td> 0.67</td><td> 0.32</td><td> 0.93</td><td>-0.33</td><td> 0.92</td><td> 0.68</td><td> 0.68</td><td> 0.81</td></tr>\n",
       "\t<tr><th scope=row>CG</th><td>NA   </td><td>NA   </td><td>  NA </td><td>  NA </td><td>  NA </td><td>1.00 </td><td>0.77 </td><td>-0.07</td><td>0.59 </td><td> 0.56</td><td>...  </td><td> 0.14</td><td> 0.28</td><td> 0.38</td><td> 0.19</td><td> 0.57</td><td>-0.16</td><td> 0.50</td><td> 0.41</td><td> 0.37</td><td> 0.52</td></tr>\n",
       "\t<tr><th scope=row>SHO</th><td>NA   </td><td>NA   </td><td>  NA </td><td>  NA </td><td>  NA </td><td>  NA </td><td>1.00 </td><td>-0.06</td><td>0.47 </td><td> 0.44</td><td>...  </td><td> 0.12</td><td> 0.23</td><td> 0.30</td><td> 0.15</td><td> 0.46</td><td>-0.14</td><td> 0.39</td><td> 0.34</td><td> 0.28</td><td> 0.42</td></tr>\n",
       "\t<tr><th scope=row>SV</th><td>NA   </td><td>NA   </td><td>  NA </td><td>  NA </td><td>  NA </td><td>  NA </td><td>  NA </td><td> 1.00</td><td>0.01 </td><td>-0.04</td><td>...  </td><td> 0.11</td><td> 0.04</td><td>-0.02</td><td>-0.02</td><td> 0.00</td><td> 0.88</td><td>-0.07</td><td> 0.00</td><td>-0.04</td><td>-0.04</td></tr>\n",
       "\t<tr><th scope=row>IPouts</th><td>NA   </td><td>NA   </td><td>  NA </td><td>  NA </td><td>  NA </td><td>  NA </td><td>  NA </td><td>   NA</td><td>1.00 </td><td> 0.98</td><td>...  </td><td> 0.44</td><td> 0.62</td><td> 0.72</td><td> 0.34</td><td> 1.00</td><td>-0.06</td><td> 0.94</td><td> 0.74</td><td> 0.73</td><td> 0.87</td></tr>\n",
       "\t<tr><th scope=row>H</th><td>NA   </td><td>NA   </td><td>  NA </td><td>  NA </td><td>  NA </td><td>  NA </td><td>  NA </td><td>   NA</td><td>  NA </td><td> 1.00</td><td>...  </td><td> 0.44</td><td> 0.59</td><td> 0.71</td><td> 0.33</td><td> 0.99</td><td>-0.11</td><td> 0.97</td><td> 0.74</td><td> 0.75</td><td> 0.88</td></tr>\n",
       "\t<tr><th scope=row>ER</th><td>NA   </td><td>NA   </td><td>  NA </td><td>  NA </td><td>  NA </td><td>  NA </td><td>  NA </td><td>   NA</td><td>  NA </td><td>   NA</td><td>...  </td><td> 0.42</td><td> 0.60</td><td> 0.71</td><td> 0.33</td><td> 0.95</td><td>-0.14</td><td> 1.00</td><td> 0.70</td><td> 0.75</td><td> 0.83</td></tr>\n",
       "\t<tr><th scope=row>HR</th><td>NA   </td><td>NA   </td><td>  NA </td><td>  NA </td><td>  NA </td><td>  NA </td><td>  NA </td><td>   NA</td><td>  NA </td><td>   NA</td><td>...  </td><td> 0.35</td><td> 0.52</td><td> 0.65</td><td> 0.31</td><td> 0.89</td><td>-0.13</td><td> 0.93</td><td> 0.64</td><td> 0.68</td><td> 0.74</td></tr>\n",
       "\t<tr><th scope=row>BB</th><td>NA   </td><td>NA   </td><td>  NA </td><td>  NA </td><td>  NA </td><td>  NA </td><td>  NA </td><td>   NA</td><td>  NA </td><td>   NA</td><td>...  </td><td> 0.49</td><td> 0.67</td><td> 0.71</td><td> 0.34</td><td> 0.91</td><td>-0.04</td><td> 0.89</td><td> 0.70</td><td> 0.70</td><td> 0.80</td></tr>\n",
       "\t<tr><th scope=row>SO</th><td>NA   </td><td>NA   </td><td>  NA </td><td>  NA </td><td>  NA </td><td>  NA </td><td>  NA </td><td>   NA</td><td>  NA </td><td>   NA</td><td>...  </td><td> 0.40</td><td> 0.63</td><td> 0.67</td><td> 0.32</td><td> 0.93</td><td> 0.03</td><td> 0.82</td><td> 0.67</td><td> 0.64</td><td> 0.75</td></tr>\n",
       "\t<tr><th scope=row>BAOpp</th><td>NA   </td><td>NA   </td><td>  NA </td><td>  NA </td><td>  NA </td><td>  NA </td><td>  NA </td><td>   NA</td><td>  NA </td><td>   NA</td><td>...  </td><td>-0.11</td><td>-0.13</td><td>-0.10</td><td>-0.06</td><td>-0.14</td><td>-0.21</td><td>-0.03</td><td>-0.09</td><td>-0.05</td><td>-0.08</td></tr>\n",
       "\t<tr><th scope=row>ERA</th><td>NA   </td><td>NA   </td><td>  NA </td><td>  NA </td><td>  NA </td><td>  NA </td><td>  NA </td><td>   NA</td><td>  NA </td><td>   NA</td><td>...  </td><td>-0.15</td><td>-0.14</td><td>-0.13</td><td>-0.07</td><td>-0.19</td><td>-0.15</td><td>-0.11</td><td>-0.15</td><td>-0.13</td><td>-0.17</td></tr>\n",
       "\t<tr><th scope=row>IBB</th><td>NA   </td><td>NA   </td><td>  NA </td><td>  NA </td><td>  NA </td><td>  NA </td><td>  NA </td><td>   NA</td><td>  NA </td><td>   NA</td><td>...  </td><td> 1.00</td><td> 0.31</td><td> 0.35</td><td> 0.17</td><td> 0.45</td><td> 0.23</td><td> 0.42</td><td> 0.49</td><td> 0.37</td><td> 0.41</td></tr>\n",
       "\t<tr><th scope=row>WP</th><td>NA   </td><td>NA   </td><td>  NA </td><td>  NA </td><td>  NA </td><td>  NA </td><td>  NA </td><td>   NA</td><td>  NA </td><td>   NA</td><td>...  </td><td>   NA</td><td> 1.00</td><td> 0.49</td><td> 0.23</td><td> 0.62</td><td> 0.05</td><td> 0.60</td><td> 0.44</td><td> 0.48</td><td> 0.54</td></tr>\n",
       "\t<tr><th scope=row>HBP</th><td>NA   </td><td>NA   </td><td>  NA </td><td>  NA </td><td>  NA </td><td>  NA </td><td>  NA </td><td>   NA</td><td>  NA </td><td>   NA</td><td>...  </td><td>   NA</td><td>   NA</td><td> 1.00</td><td> 0.28</td><td> 0.73</td><td>-0.05</td><td> 0.72</td><td> 0.54</td><td> 0.55</td><td> 0.65</td></tr>\n",
       "\t<tr><th scope=row>BK</th><td>NA   </td><td>NA   </td><td>  NA </td><td>  NA </td><td>  NA </td><td>  NA </td><td>  NA </td><td>   NA</td><td>  NA </td><td>   NA</td><td>...  </td><td>   NA</td><td>   NA</td><td>   NA</td><td> 1.00</td><td> 0.34</td><td>-0.03</td><td> 0.33</td><td> 0.25</td><td> 0.25</td><td> 0.30</td></tr>\n",
       "\t<tr><th scope=row>BFP</th><td>NA   </td><td>NA   </td><td>  NA </td><td>  NA </td><td>  NA </td><td>  NA </td><td>  NA </td><td>   NA</td><td>  NA </td><td>   NA</td><td>...  </td><td>   NA</td><td>   NA</td><td>   NA</td><td>   NA</td><td> 1.00</td><td>-0.07</td><td> 0.95</td><td> 0.75</td><td> 0.74</td><td> 0.87</td></tr>\n",
       "\t<tr><th scope=row>GF</th><td>NA   </td><td>NA   </td><td>  NA </td><td>  NA </td><td>  NA </td><td>  NA </td><td>  NA </td><td>   NA</td><td>  NA </td><td>   NA</td><td>...  </td><td>   NA</td><td>   NA</td><td>   NA</td><td>   NA</td><td>   NA</td><td> 1.00</td><td>-0.14</td><td>-0.04</td><td>-0.06</td><td>-0.08</td></tr>\n",
       "\t<tr><th scope=row>R</th><td>NA   </td><td>NA   </td><td>  NA </td><td>  NA </td><td>  NA </td><td>  NA </td><td>  NA </td><td>   NA</td><td>  NA </td><td>   NA</td><td>...  </td><td>   NA</td><td>   NA</td><td>   NA</td><td>   NA</td><td>   NA</td><td>   NA</td><td> 1.00</td><td> 0.71</td><td> 0.76</td><td> 0.84</td></tr>\n",
       "\t<tr><th scope=row>SH</th><td>NA   </td><td>NA   </td><td>  NA </td><td>  NA </td><td>  NA </td><td>  NA </td><td>  NA </td><td>   NA</td><td>  NA </td><td>   NA</td><td>...  </td><td>   NA</td><td>   NA</td><td>   NA</td><td>   NA</td><td>   NA</td><td>   NA</td><td>   NA</td><td> 1.00</td><td> 0.56</td><td> 0.65</td></tr>\n",
       "\t<tr><th scope=row>SF</th><td>NA   </td><td>NA   </td><td>  NA </td><td>  NA </td><td>  NA </td><td>  NA </td><td>  NA </td><td>   NA</td><td>  NA </td><td>   NA</td><td>...  </td><td>   NA</td><td>   NA</td><td>   NA</td><td>   NA</td><td>   NA</td><td>   NA</td><td>   NA</td><td>   NA</td><td> 1.00</td><td> 0.63</td></tr>\n",
       "\t<tr><th scope=row>GIDP</th><td>NA   </td><td>NA   </td><td>  NA </td><td>  NA </td><td>  NA </td><td>  NA </td><td>  NA </td><td>   NA</td><td>  NA </td><td>   NA</td><td>...  </td><td>   NA</td><td>   NA</td><td>   NA</td><td>   NA</td><td>   NA</td><td>   NA</td><td>   NA</td><td>   NA</td><td>   NA</td><td> 1.00</td></tr>\n",
       "</tbody>\n",
       "</table>\n"
      ],
      "text/latex": [
       "\\begin{tabular}{r|llllllllllllllllllllllllll}\n",
       "  & lgID & W & L & G & GS & CG & SHO & SV & IPouts & H & ... & IBB & WP & HBP & BK & BFP & GF & R & SH & SF & GIDP\\\\\n",
       "\\hline\n",
       "\tlgID &  1    & NA    &   NA  &   NA  &   NA  &   NA  &   NA  &    NA &   NA  &    NA & ...   &    NA &    NA &    NA &    NA &    NA &    NA &    NA &    NA &    NA &    NA\\\\\n",
       "\tW & NA    &  1    & 0.72  & 0.32  & 0.85  & 0.58  & 0.49  & -0.01 & 0.92  &  0.88 & ...   &  0.37 &  0.55 &  0.64 &  0.30 &  0.91 & -0.08 &  0.82 &  0.66 &  0.63 &  0.80\\\\\n",
       "\tL & NA    & NA    & 1.00  & 0.28  & 0.84  & 0.45  & 0.35  &  0.01 & 0.86  &  0.89 & ...   &  0.43 &  0.56 &  0.66 &  0.31 &  0.88 & -0.06 &  0.91 &  0.68 &  0.69 &  0.77\\\\\n",
       "\tG & NA    & NA    &   NA  & 1.00  & 0.00  & 0.04  & 0.03  &  0.42 & 0.36  &  0.30 & ...   &  0.52 &  0.33 &  0.27 &  0.13 &  0.35 &  0.67 &  0.26 &  0.30 &  0.28 &  0.30\\\\\n",
       "\tGS & NA    & NA    &   NA  &   NA  & 1.00  & 0.57  & 0.46  & -0.16 & 0.92  &  0.93 & ...   &  0.27 &  0.54 &  0.67 &  0.32 &  0.93 & -0.33 &  0.92 &  0.68 &  0.68 &  0.81\\\\\n",
       "\tCG & NA    & NA    &   NA  &   NA  &   NA  & 1.00  & 0.77  & -0.07 & 0.59  &  0.56 & ...   &  0.14 &  0.28 &  0.38 &  0.19 &  0.57 & -0.16 &  0.50 &  0.41 &  0.37 &  0.52\\\\\n",
       "\tSHO & NA    & NA    &   NA  &   NA  &   NA  &   NA  & 1.00  & -0.06 & 0.47  &  0.44 & ...   &  0.12 &  0.23 &  0.30 &  0.15 &  0.46 & -0.14 &  0.39 &  0.34 &  0.28 &  0.42\\\\\n",
       "\tSV & NA    & NA    &   NA  &   NA  &   NA  &   NA  &   NA  &  1.00 & 0.01  & -0.04 & ...   &  0.11 &  0.04 & -0.02 & -0.02 &  0.00 &  0.88 & -0.07 &  0.00 & -0.04 & -0.04\\\\\n",
       "\tIPouts & NA    & NA    &   NA  &   NA  &   NA  &   NA  &   NA  &    NA & 1.00  &  0.98 & ...   &  0.44 &  0.62 &  0.72 &  0.34 &  1.00 & -0.06 &  0.94 &  0.74 &  0.73 &  0.87\\\\\n",
       "\tH & NA    & NA    &   NA  &   NA  &   NA  &   NA  &   NA  &    NA &   NA  &  1.00 & ...   &  0.44 &  0.59 &  0.71 &  0.33 &  0.99 & -0.11 &  0.97 &  0.74 &  0.75 &  0.88\\\\\n",
       "\tER & NA    & NA    &   NA  &   NA  &   NA  &   NA  &   NA  &    NA &   NA  &    NA & ...   &  0.42 &  0.60 &  0.71 &  0.33 &  0.95 & -0.14 &  1.00 &  0.70 &  0.75 &  0.83\\\\\n",
       "\tHR & NA    & NA    &   NA  &   NA  &   NA  &   NA  &   NA  &    NA &   NA  &    NA & ...   &  0.35 &  0.52 &  0.65 &  0.31 &  0.89 & -0.13 &  0.93 &  0.64 &  0.68 &  0.74\\\\\n",
       "\tBB & NA    & NA    &   NA  &   NA  &   NA  &   NA  &   NA  &    NA &   NA  &    NA & ...   &  0.49 &  0.67 &  0.71 &  0.34 &  0.91 & -0.04 &  0.89 &  0.70 &  0.70 &  0.80\\\\\n",
       "\tSO & NA    & NA    &   NA  &   NA  &   NA  &   NA  &   NA  &    NA &   NA  &    NA & ...   &  0.40 &  0.63 &  0.67 &  0.32 &  0.93 &  0.03 &  0.82 &  0.67 &  0.64 &  0.75\\\\\n",
       "\tBAOpp & NA    & NA    &   NA  &   NA  &   NA  &   NA  &   NA  &    NA &   NA  &    NA & ...   & -0.11 & -0.13 & -0.10 & -0.06 & -0.14 & -0.21 & -0.03 & -0.09 & -0.05 & -0.08\\\\\n",
       "\tERA & NA    & NA    &   NA  &   NA  &   NA  &   NA  &   NA  &    NA &   NA  &    NA & ...   & -0.15 & -0.14 & -0.13 & -0.07 & -0.19 & -0.15 & -0.11 & -0.15 & -0.13 & -0.17\\\\\n",
       "\tIBB & NA    & NA    &   NA  &   NA  &   NA  &   NA  &   NA  &    NA &   NA  &    NA & ...   &  1.00 &  0.31 &  0.35 &  0.17 &  0.45 &  0.23 &  0.42 &  0.49 &  0.37 &  0.41\\\\\n",
       "\tWP & NA    & NA    &   NA  &   NA  &   NA  &   NA  &   NA  &    NA &   NA  &    NA & ...   &    NA &  1.00 &  0.49 &  0.23 &  0.62 &  0.05 &  0.60 &  0.44 &  0.48 &  0.54\\\\\n",
       "\tHBP & NA    & NA    &   NA  &   NA  &   NA  &   NA  &   NA  &    NA &   NA  &    NA & ...   &    NA &    NA &  1.00 &  0.28 &  0.73 & -0.05 &  0.72 &  0.54 &  0.55 &  0.65\\\\\n",
       "\tBK & NA    & NA    &   NA  &   NA  &   NA  &   NA  &   NA  &    NA &   NA  &    NA & ...   &    NA &    NA &    NA &  1.00 &  0.34 & -0.03 &  0.33 &  0.25 &  0.25 &  0.30\\\\\n",
       "\tBFP & NA    & NA    &   NA  &   NA  &   NA  &   NA  &   NA  &    NA &   NA  &    NA & ...   &    NA &    NA &    NA &    NA &  1.00 & -0.07 &  0.95 &  0.75 &  0.74 &  0.87\\\\\n",
       "\tGF & NA    & NA    &   NA  &   NA  &   NA  &   NA  &   NA  &    NA &   NA  &    NA & ...   &    NA &    NA &    NA &    NA &    NA &  1.00 & -0.14 & -0.04 & -0.06 & -0.08\\\\\n",
       "\tR & NA    & NA    &   NA  &   NA  &   NA  &   NA  &   NA  &    NA &   NA  &    NA & ...   &    NA &    NA &    NA &    NA &    NA &    NA &  1.00 &  0.71 &  0.76 &  0.84\\\\\n",
       "\tSH & NA    & NA    &   NA  &   NA  &   NA  &   NA  &   NA  &    NA &   NA  &    NA & ...   &    NA &    NA &    NA &    NA &    NA &    NA &    NA &  1.00 &  0.56 &  0.65\\\\\n",
       "\tSF & NA    & NA    &   NA  &   NA  &   NA  &   NA  &   NA  &    NA &   NA  &    NA & ...   &    NA &    NA &    NA &    NA &    NA &    NA &    NA &    NA &  1.00 &  0.63\\\\\n",
       "\tGIDP & NA    & NA    &   NA  &   NA  &   NA  &   NA  &   NA  &    NA &   NA  &    NA & ...   &    NA &    NA &    NA &    NA &    NA &    NA &    NA &    NA &    NA &  1.00\\\\\n",
       "\\end{tabular}\n"
      ],
      "text/markdown": [
       "\n",
       "| <!--/--> | lgID | W | L | G | GS | CG | SHO | SV | IPouts | H | ... | IBB | WP | HBP | BK | BFP | GF | R | SH | SF | GIDP | \n",
       "|---|---|---|---|---|---|---|---|---|---|---|---|---|---|---|---|---|---|---|---|---|---|---|---|---|---|\n",
       "| lgID |  1    | NA    |   NA  |   NA  |   NA  |   NA  |   NA  |    NA |   NA  |    NA | ...   |    NA |    NA |    NA |    NA |    NA |    NA |    NA |    NA |    NA |    NA | \n",
       "| W | NA    |  1    | 0.72  | 0.32  | 0.85  | 0.58  | 0.49  | -0.01 | 0.92  |  0.88 | ...   |  0.37 |  0.55 |  0.64 |  0.30 |  0.91 | -0.08 |  0.82 |  0.66 |  0.63 |  0.80 | \n",
       "| L | NA    | NA    | 1.00  | 0.28  | 0.84  | 0.45  | 0.35  |  0.01 | 0.86  |  0.89 | ...   |  0.43 |  0.56 |  0.66 |  0.31 |  0.88 | -0.06 |  0.91 |  0.68 |  0.69 |  0.77 | \n",
       "| G | NA    | NA    |   NA  | 1.00  | 0.00  | 0.04  | 0.03  |  0.42 | 0.36  |  0.30 | ...   |  0.52 |  0.33 |  0.27 |  0.13 |  0.35 |  0.67 |  0.26 |  0.30 |  0.28 |  0.30 | \n",
       "| GS | NA    | NA    |   NA  |   NA  | 1.00  | 0.57  | 0.46  | -0.16 | 0.92  |  0.93 | ...   |  0.27 |  0.54 |  0.67 |  0.32 |  0.93 | -0.33 |  0.92 |  0.68 |  0.68 |  0.81 | \n",
       "| CG | NA    | NA    |   NA  |   NA  |   NA  | 1.00  | 0.77  | -0.07 | 0.59  |  0.56 | ...   |  0.14 |  0.28 |  0.38 |  0.19 |  0.57 | -0.16 |  0.50 |  0.41 |  0.37 |  0.52 | \n",
       "| SHO | NA    | NA    |   NA  |   NA  |   NA  |   NA  | 1.00  | -0.06 | 0.47  |  0.44 | ...   |  0.12 |  0.23 |  0.30 |  0.15 |  0.46 | -0.14 |  0.39 |  0.34 |  0.28 |  0.42 | \n",
       "| SV | NA    | NA    |   NA  |   NA  |   NA  |   NA  |   NA  |  1.00 | 0.01  | -0.04 | ...   |  0.11 |  0.04 | -0.02 | -0.02 |  0.00 |  0.88 | -0.07 |  0.00 | -0.04 | -0.04 | \n",
       "| IPouts | NA    | NA    |   NA  |   NA  |   NA  |   NA  |   NA  |    NA | 1.00  |  0.98 | ...   |  0.44 |  0.62 |  0.72 |  0.34 |  1.00 | -0.06 |  0.94 |  0.74 |  0.73 |  0.87 | \n",
       "| H | NA    | NA    |   NA  |   NA  |   NA  |   NA  |   NA  |    NA |   NA  |  1.00 | ...   |  0.44 |  0.59 |  0.71 |  0.33 |  0.99 | -0.11 |  0.97 |  0.74 |  0.75 |  0.88 | \n",
       "| ER | NA    | NA    |   NA  |   NA  |   NA  |   NA  |   NA  |    NA |   NA  |    NA | ...   |  0.42 |  0.60 |  0.71 |  0.33 |  0.95 | -0.14 |  1.00 |  0.70 |  0.75 |  0.83 | \n",
       "| HR | NA    | NA    |   NA  |   NA  |   NA  |   NA  |   NA  |    NA |   NA  |    NA | ...   |  0.35 |  0.52 |  0.65 |  0.31 |  0.89 | -0.13 |  0.93 |  0.64 |  0.68 |  0.74 | \n",
       "| BB | NA    | NA    |   NA  |   NA  |   NA  |   NA  |   NA  |    NA |   NA  |    NA | ...   |  0.49 |  0.67 |  0.71 |  0.34 |  0.91 | -0.04 |  0.89 |  0.70 |  0.70 |  0.80 | \n",
       "| SO | NA    | NA    |   NA  |   NA  |   NA  |   NA  |   NA  |    NA |   NA  |    NA | ...   |  0.40 |  0.63 |  0.67 |  0.32 |  0.93 |  0.03 |  0.82 |  0.67 |  0.64 |  0.75 | \n",
       "| BAOpp | NA    | NA    |   NA  |   NA  |   NA  |   NA  |   NA  |    NA |   NA  |    NA | ...   | -0.11 | -0.13 | -0.10 | -0.06 | -0.14 | -0.21 | -0.03 | -0.09 | -0.05 | -0.08 | \n",
       "| ERA | NA    | NA    |   NA  |   NA  |   NA  |   NA  |   NA  |    NA |   NA  |    NA | ...   | -0.15 | -0.14 | -0.13 | -0.07 | -0.19 | -0.15 | -0.11 | -0.15 | -0.13 | -0.17 | \n",
       "| IBB | NA    | NA    |   NA  |   NA  |   NA  |   NA  |   NA  |    NA |   NA  |    NA | ...   |  1.00 |  0.31 |  0.35 |  0.17 |  0.45 |  0.23 |  0.42 |  0.49 |  0.37 |  0.41 | \n",
       "| WP | NA    | NA    |   NA  |   NA  |   NA  |   NA  |   NA  |    NA |   NA  |    NA | ...   |    NA |  1.00 |  0.49 |  0.23 |  0.62 |  0.05 |  0.60 |  0.44 |  0.48 |  0.54 | \n",
       "| HBP | NA    | NA    |   NA  |   NA  |   NA  |   NA  |   NA  |    NA |   NA  |    NA | ...   |    NA |    NA |  1.00 |  0.28 |  0.73 | -0.05 |  0.72 |  0.54 |  0.55 |  0.65 | \n",
       "| BK | NA    | NA    |   NA  |   NA  |   NA  |   NA  |   NA  |    NA |   NA  |    NA | ...   |    NA |    NA |    NA |  1.00 |  0.34 | -0.03 |  0.33 |  0.25 |  0.25 |  0.30 | \n",
       "| BFP | NA    | NA    |   NA  |   NA  |   NA  |   NA  |   NA  |    NA |   NA  |    NA | ...   |    NA |    NA |    NA |    NA |  1.00 | -0.07 |  0.95 |  0.75 |  0.74 |  0.87 | \n",
       "| GF | NA    | NA    |   NA  |   NA  |   NA  |   NA  |   NA  |    NA |   NA  |    NA | ...   |    NA |    NA |    NA |    NA |    NA |  1.00 | -0.14 | -0.04 | -0.06 | -0.08 | \n",
       "| R | NA    | NA    |   NA  |   NA  |   NA  |   NA  |   NA  |    NA |   NA  |    NA | ...   |    NA |    NA |    NA |    NA |    NA |    NA |  1.00 |  0.71 |  0.76 |  0.84 | \n",
       "| SH | NA    | NA    |   NA  |   NA  |   NA  |   NA  |   NA  |    NA |   NA  |    NA | ...   |    NA |    NA |    NA |    NA |    NA |    NA |    NA |  1.00 |  0.56 |  0.65 | \n",
       "| SF | NA    | NA    |   NA  |   NA  |   NA  |   NA  |   NA  |    NA |   NA  |    NA | ...   |    NA |    NA |    NA |    NA |    NA |    NA |    NA |    NA |  1.00 |  0.63 | \n",
       "| GIDP | NA    | NA    |   NA  |   NA  |   NA  |   NA  |   NA  |    NA |   NA  |    NA | ...   |    NA |    NA |    NA |    NA |    NA |    NA |    NA |    NA |    NA |  1.00 | \n",
       "\n",
       "\n"
      ],
      "text/plain": [
       "       lgID W  L    G    GS   CG   SHO  SV    IPouts H     ... IBB   WP   \n",
       "lgID    1   NA   NA   NA   NA   NA   NA    NA   NA      NA ...    NA    NA\n",
       "W      NA    1 0.72 0.32 0.85 0.58 0.49 -0.01 0.92    0.88 ...  0.37  0.55\n",
       "L      NA   NA 1.00 0.28 0.84 0.45 0.35  0.01 0.86    0.89 ...  0.43  0.56\n",
       "G      NA   NA   NA 1.00 0.00 0.04 0.03  0.42 0.36    0.30 ...  0.52  0.33\n",
       "GS     NA   NA   NA   NA 1.00 0.57 0.46 -0.16 0.92    0.93 ...  0.27  0.54\n",
       "CG     NA   NA   NA   NA   NA 1.00 0.77 -0.07 0.59    0.56 ...  0.14  0.28\n",
       "SHO    NA   NA   NA   NA   NA   NA 1.00 -0.06 0.47    0.44 ...  0.12  0.23\n",
       "SV     NA   NA   NA   NA   NA   NA   NA  1.00 0.01   -0.04 ...  0.11  0.04\n",
       "IPouts NA   NA   NA   NA   NA   NA   NA    NA 1.00    0.98 ...  0.44  0.62\n",
       "H      NA   NA   NA   NA   NA   NA   NA    NA   NA    1.00 ...  0.44  0.59\n",
       "ER     NA   NA   NA   NA   NA   NA   NA    NA   NA      NA ...  0.42  0.60\n",
       "HR     NA   NA   NA   NA   NA   NA   NA    NA   NA      NA ...  0.35  0.52\n",
       "BB     NA   NA   NA   NA   NA   NA   NA    NA   NA      NA ...  0.49  0.67\n",
       "SO     NA   NA   NA   NA   NA   NA   NA    NA   NA      NA ...  0.40  0.63\n",
       "BAOpp  NA   NA   NA   NA   NA   NA   NA    NA   NA      NA ... -0.11 -0.13\n",
       "ERA    NA   NA   NA   NA   NA   NA   NA    NA   NA      NA ... -0.15 -0.14\n",
       "IBB    NA   NA   NA   NA   NA   NA   NA    NA   NA      NA ...  1.00  0.31\n",
       "WP     NA   NA   NA   NA   NA   NA   NA    NA   NA      NA ...    NA  1.00\n",
       "HBP    NA   NA   NA   NA   NA   NA   NA    NA   NA      NA ...    NA    NA\n",
       "BK     NA   NA   NA   NA   NA   NA   NA    NA   NA      NA ...    NA    NA\n",
       "BFP    NA   NA   NA   NA   NA   NA   NA    NA   NA      NA ...    NA    NA\n",
       "GF     NA   NA   NA   NA   NA   NA   NA    NA   NA      NA ...    NA    NA\n",
       "R      NA   NA   NA   NA   NA   NA   NA    NA   NA      NA ...    NA    NA\n",
       "SH     NA   NA   NA   NA   NA   NA   NA    NA   NA      NA ...    NA    NA\n",
       "SF     NA   NA   NA   NA   NA   NA   NA    NA   NA      NA ...    NA    NA\n",
       "GIDP   NA   NA   NA   NA   NA   NA   NA    NA   NA      NA ...    NA    NA\n",
       "       HBP   BK    BFP   GF    R     SH    SF    GIDP \n",
       "lgID      NA    NA    NA    NA    NA    NA    NA    NA\n",
       "W       0.64  0.30  0.91 -0.08  0.82  0.66  0.63  0.80\n",
       "L       0.66  0.31  0.88 -0.06  0.91  0.68  0.69  0.77\n",
       "G       0.27  0.13  0.35  0.67  0.26  0.30  0.28  0.30\n",
       "GS      0.67  0.32  0.93 -0.33  0.92  0.68  0.68  0.81\n",
       "CG      0.38  0.19  0.57 -0.16  0.50  0.41  0.37  0.52\n",
       "SHO     0.30  0.15  0.46 -0.14  0.39  0.34  0.28  0.42\n",
       "SV     -0.02 -0.02  0.00  0.88 -0.07  0.00 -0.04 -0.04\n",
       "IPouts  0.72  0.34  1.00 -0.06  0.94  0.74  0.73  0.87\n",
       "H       0.71  0.33  0.99 -0.11  0.97  0.74  0.75  0.88\n",
       "ER      0.71  0.33  0.95 -0.14  1.00  0.70  0.75  0.83\n",
       "HR      0.65  0.31  0.89 -0.13  0.93  0.64  0.68  0.74\n",
       "BB      0.71  0.34  0.91 -0.04  0.89  0.70  0.70  0.80\n",
       "SO      0.67  0.32  0.93  0.03  0.82  0.67  0.64  0.75\n",
       "BAOpp  -0.10 -0.06 -0.14 -0.21 -0.03 -0.09 -0.05 -0.08\n",
       "ERA    -0.13 -0.07 -0.19 -0.15 -0.11 -0.15 -0.13 -0.17\n",
       "IBB     0.35  0.17  0.45  0.23  0.42  0.49  0.37  0.41\n",
       "WP      0.49  0.23  0.62  0.05  0.60  0.44  0.48  0.54\n",
       "HBP     1.00  0.28  0.73 -0.05  0.72  0.54  0.55  0.65\n",
       "BK        NA  1.00  0.34 -0.03  0.33  0.25  0.25  0.30\n",
       "BFP       NA    NA  1.00 -0.07  0.95  0.75  0.74  0.87\n",
       "GF        NA    NA    NA  1.00 -0.14 -0.04 -0.06 -0.08\n",
       "R         NA    NA    NA    NA  1.00  0.71  0.76  0.84\n",
       "SH        NA    NA    NA    NA    NA  1.00  0.56  0.65\n",
       "SF        NA    NA    NA    NA    NA    NA  1.00  0.63\n",
       "GIDP      NA    NA    NA    NA    NA    NA    NA  1.00"
      ]
     },
     "metadata": {},
     "output_type": "display_data"
    },
    {
     "data": {},
     "metadata": {},
     "output_type": "display_data"
    },
    {
     "data": {
      "image/png": "[encoded data removed]",
      "text/plain": [
       "plot without title"
      ]
     },
     "metadata": {},
     "output_type": "display_data"
    }
   ],
   "source": [
    "#Pitcher_clean$playerID = as.factor(Pitcher_clean$playerID)\n",
    "#Pitcher_clean$yearID = as.factor(Pitcher_clean$yearID)\n",
    "#Pitcher_clean$stint = as.factor(Pitcher_clean$stint)\n",
    "#Pitcher_clean$teamID = as.factor(Pitcher_clean$teamID)\n",
    "#Pitcher_clean$lgID = as.factor(Pitcher_clean$lgID)\n",
    "#head(Pitcher_clean)\n",
    "#cor(Pitcher_clean)\n",
    "\n",
    "## CORRELATIONS\n",
    "\n",
    "Pitcher_clean$lgID = ifelse(Pitcher_clean$lgID==\"AL\", 1, 0)\n",
    "#head(Pitcher_clean)\n",
    "cormat = round(cor(Pitcher_clean[, -c(1, 2, 3, 4)]), 2)\n",
    "melted_cormat = melt(cormat)\n",
    "# ggplot(data = melted_cormat, aes(x=Var1, y=Var2, fill=value)) + \n",
    "#   geom_tile()\n",
    "\n",
    "# Get lower triangle of the correlation matrix\n",
    "  get_lower_tri<-function(cormat){\n",
    "    cormat[upper.tri(cormat)] <- NA\n",
    "    return(cormat)\n",
    "  }\n",
    "  # Get upper triangle of the correlation matrix\n",
    "  get_upper_tri <- function(cormat){\n",
    "    cormat[lower.tri(cormat)]<- NA\n",
    "    return(cormat)\n",
    "  }\n",
    "\n",
    "upper_tri <- get_upper_tri(cormat)\n",
    "#upper_tri\n",
    "\n",
    "# Melt the correlation matrix\n",
    "melted_cormat <- melt(upper_tri, na.rm = TRUE)\n",
    "# Heatmap\n",
    "ggplot(data = melted_cormat, aes(Var2, Var1, fill = value))+\n",
    " geom_tile(color = \"white\")+\n",
    " scale_fill_gradient2(low = \"blue\", high = \"red\", mid = \"white\", \n",
    "   midpoint = 0, limit = c(-1,1), space = \"Lab\", \n",
    "   name=\"Pearson\\nCorrelation\") +\n",
    "  theme_minimal()+ \n",
    " theme(axis.text.x = element_text(angle = 45, vjust = 1, \n",
    "    size = 12, hjust = 1))+\n",
    " coord_fixed()"
   ]
  },
  {
   "cell_type": "code",
   "execution_count": 87,
   "metadata": {},
   "outputs": [
    {
     "data": {},
     "metadata": {},
     "output_type": "display_data"
    },
    {
     "data": {
      "image/png": "[encoded data removed]",
      "text/plain": [
       "plot without title"
      ]
     },
     "metadata": {},
     "output_type": "display_data"
    }
   ],
   "source": [
    "# correlations specific to wins\n",
    "ggpairs(Pitcher_clean[ , c(6, 9, 13, 18, 25)])"
   ]
  },
  {
   "cell_type": "code",
   "execution_count": null,
   "metadata": {},
   "outputs": [],
   "source": [
    "# correlations specific to ER\n",
    "ggpairs(Pitcher_clean[ , c(6, 9, 13, 18, 25)])"
   ]
  }
 ],
 "metadata": {
  "kernelspec": {
   "display_name": "R",
   "language": "R",
   "name": "ir"
  },
  "language_info": {
   "codemirror_mode": "r",
   "file_extension": ".r",
   "mimetype": "text/x-r-source",
   "name": "R",
   "pygments_lexer": "r",
   "version": "3.4.4"
  }
 },
 "nbformat": 4,
 "nbformat_minor": 2
}
